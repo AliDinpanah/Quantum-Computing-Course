{
 "cells": [
  {
   "cell_type": "code",
   "execution_count": 1,
   "metadata": {},
   "outputs": [],
   "source": [
    "from qiskit import QuantumCircuit,transpile\n",
    "from qiskit_aer import AerSimulator\n",
    "import matplotlib.pyplot as plt"
   ]
  },
  {
   "cell_type": "markdown",
   "metadata": {},
   "source": [
    "\n",
    "## Introduction to the CNOT Gate\n",
    "\n",
    "The **CNOT gate** (Controlled-NOT gate) is a fundamental two-qubit gate in quantum computing. It operates on a **control qubit** and a **target qubit**. The gate flips the target qubit $$ \\ket{0} \\leftrightarrow \\ket{1} $$ only if the control qubit is in the 1 state. It is often represented as CX.\n",
    "\n",
    "### Truth Table of the CNOT Gate:\n",
    "\n",
    "| Control $$ \\ket{c} $$ | Target $$ \\ket{t} $$ | Output $$ \\ket{c, t} $$ |\n",
    "|-------------------------|------------------------|---------------------------|\n",
    "| $$ \\ket{0} $$           | $$ \\ket{0} $$         | $$ \\ket{0, 0} $$          |\n",
    "| $$ \\ket{0} $$           | $$ \\ket{1} $$         | $$ \\ket{0, 1} $$          |\n",
    "| $$ \\ket{1} $$           | $$ \\ket{0} $$         | $$ \\ket{1, 1} $$          |\n",
    "| $$ \\ket{1} $$           | $$ \\ket{1} $$         | $$ \\ket{1, 0} $$          |\n",
    "\n",
    "### Matrix Representation of the CNOT Gate:\n",
    "\n",
    "The CNOT gate acts on a 2-qubit system and can be represented as a 4*4 matrix:\n",
    "$$\n",
    "CNOT =\n",
    "\\begin{bmatrix}\n",
    "1 & 0 & 0 & 0 \\\\\n",
    "0 & 1 & 0 & 0 \\\\\n",
    "0 & 0 & 0 & 1 \\\\\n",
    "0 & 0 & 1 & 0\n",
    "\\end{bmatrix}.\n",
    "$$\n",
    "\n",
    "### Action of the CNOT Gate:\n",
    "\n",
    "If the input state is $$ \\ket{c, t} = \\alpha \\ket{00} + \\beta \\ket{01} + \\gamma \\ket{10} + \\delta \\ket{11} $$ then the output after applying the CNOT gate is:\n",
    "$$\n",
    "\\text{CNOT} \\ket{c, t} = \\alpha \\ket{00} + \\beta \\ket{01} + \\gamma \\ket{11} + \\delta \\ket{10}.\n",
    "$$\n",
    "\n",
    "---\n",
    "\n",
    "## Introduction to the Toffoli Gate\n",
    "\n",
    "The **Toffoli gate** (or CCNOT gate) is a three-qubit gate. It operates on two control qubits and one target qubit. The target qubit is flipped $$ \\ket{0} \\leftrightarrow \\ket{1} $$ **only if both control qubits are in the 1 state**.\n",
    "\n",
    "### Truth Table of the Toffoli Gate:\n",
    "\n",
    "| Control 1 $$ \\ket{c_1} $$ | Control 2 $$ \\ket{c_2} $$ | Target $$ \\ket{t} $$ | Output $$ \\ket{c_1, c_2, t} $$ |\n",
    "|-----------------------------|----------------------------|------------------------|-----------------------------------|\n",
    "| $$ \\ket{0} $$               | $$ \\ket{0} $$             | $$ \\ket{0} $$         | $$ \\ket{0, 0, 0} $$              |\n",
    "| $$ \\ket{0} $$               | $$ \\ket{0} $$             | $$ \\ket{1} $$         | $$ \\ket{0, 0, 1} $$              |\n",
    "| $$ \\ket{0} $$               | $$ \\ket{1} $$             | $$ \\ket{0} $$         | $$ \\ket{0, 1, 0} $$              |\n",
    "| $$ \\ket{0} $$               | $$ \\ket{1} $$             | $$ \\ket{1} $$         | $$ \\ket{0, 1, 1} $$              |\n",
    "| $$ \\ket{1} $$               | $$ \\ket{0} $$             | $$ \\ket{0} $$         | $$ \\ket{1, 0, 0} $$              |\n",
    "| $$ \\ket{1} $$               | $$ \\ket{0} $$             | $$ \\ket{1} $$         | $$ \\ket{1, 0, 1} $$              |\n",
    "| $$ \\ket{1} $$               | $$ \\ket{1} $$             | $$ \\ket{0} $$         | $$ \\ket{1, 1, 1} $$              |\n",
    "| $$ \\ket{1} $$               | $$ \\ket{1} $$             | $$ \\ket{1} $$         | $$ \\ket{1, 1, 0} $$              |\n",
    "\n",
    "### Matrix Representation of the Toffoli Gate:\n",
    "\n",
    "The Toffoli gate acts on a 3-qubit system and can be represented as an 8*8 matrix:\n",
    "$$\n",
    "Toffoli =\n",
    "\\begin{bmatrix}\n",
    "1 & 0 & 0 & 0 & 0 & 0 & 0 & 0 \\\\\n",
    "0 & 1 & 0 & 0 & 0 & 0 & 0 & 0 \\\\\n",
    "0 & 0 & 1 & 0 & 0 & 0 & 0 & 0 \\\\\n",
    "0 & 0 & 0 & 1 & 0 & 0 & 0 & 0 \\\\\n",
    "0 & 0 & 0 & 0 & 1 & 0 & 0 & 0 \\\\\n",
    "0 & 0 & 0 & 0 & 0 & 1 & 0 & 0 \\\\\n",
    "0 & 0 & 0 & 0 & 0 & 0 & 0 & 1 \\\\\n",
    "0 & 0 & 0 & 0 & 0 & 0 & 1 & 0\n",
    "\\end{bmatrix}.\n",
    "$$\n",
    "\n",
    "### Action of the Toffoli Gate:\n",
    "\n",
    "If the input state is:\n",
    "$$\n",
    "\\ket{c_1, c_2, t} = \\alpha \\ket{000} + \\beta \\ket{001} + \\gamma \\ket{010} + \\delta \\ket{011} + \\epsilon \\ket{100} + \\zeta \\ket{101} + \\eta \\ket{110} + \\theta \\ket{111},\n",
    "$$\n",
    "then the output state after applying the Toffoli gate is:\n",
    "$$\n",
    "\\text{Toffoli} \\ket{c_1, c_2, t} =\n",
    "\\alpha \\ket{000} + \\beta \\ket{001} + \\gamma \\ket{010} + \\delta \\ket{011} + \\epsilon \\ket{100} + \\zeta \\ket{101} + \\eta \\ket{110} + \\theta \\ket{111}.\n",
    "$$\n",
    "For $$ \\ket{c_1, c_2} = \\ket{11} $$, the target t is flipped.\n",
    "\n",
    "---\n"
   ]
  },
  {
   "cell_type": "markdown",
   "metadata": {},
   "source": [
    "## CNOT"
   ]
  },
  {
   "cell_type": "code",
   "execution_count": 8,
   "metadata": {},
   "outputs": [
    {
     "data": {
      "image/png": "[encoded data removed]",
      "text/plain": [
       "<Figure size 640x480 with 1 Axes>"
      ]
     },
     "metadata": {},
     "output_type": "display_data"
    },
    {
     "name": "stdout",
     "output_type": "stream",
     "text": [
      "Quantum Circuit\n"
     ]
    },
    {
     "data": {
      "image/png": "[encoded data removed]",
      "text/plain": [
       "<Figure size 370.906x284.278 with 1 Axes>"
      ]
     },
     "execution_count": 8,
     "metadata": {},
     "output_type": "execute_result"
    }
   ],
   "source": [
    "qc = QuantumCircuit(2, 1)\n",
    "\n",
    "qc.x(0)\n",
    "\n",
    "qc.cx(0,1)\n",
    "\n",
    "qc.measure(1, 0)\n",
    "\n",
    "simulator = AerSimulator()\n",
    "compiled_circuit = transpile(qc, simulator)\n",
    "job = simulator.run(compiled_circuit)\n",
    "result = job.result()\n",
    "\n",
    "\n",
    "counts = result.get_counts()\n",
    "\n",
    "\n",
    "plt.bar(counts.keys(), counts.values(), color='blue')\n",
    "plt.title(\"Measurement Histogram\")\n",
    "plt.show()\n",
    "\n",
    "print(\"Quantum Circuit\")\n",
    "qc.draw('mpl')"
   ]
  },
  {
   "cell_type": "markdown",
   "metadata": {},
   "source": [
    "## Toffoli"
   ]
  },
  {
   "cell_type": "code",
   "execution_count": 9,
   "metadata": {},
   "outputs": [
    {
     "data": {
      "image/png": "[encoded data removed]",
      "text/plain": [
       "<Figure size 640x480 with 1 Axes>"
      ]
     },
     "metadata": {},
     "output_type": "display_data"
    },
    {
     "name": "stdout",
     "output_type": "stream",
     "text": [
      "Quantum Circuit\n"
     ]
    },
    {
     "data": {
      "image/png": "[encoded data removed]",
      "text/plain": [
       "<Figure size 371.107x367.889 with 1 Axes>"
      ]
     },
     "execution_count": 9,
     "metadata": {},
     "output_type": "execute_result"
    }
   ],
   "source": [
    "qc = QuantumCircuit(3, 1)\n",
    "\n",
    "qc.x(0)\n",
    "\n",
    "# qc.x(1)\n",
    "\n",
    "qc.ccx(0,1,2)\n",
    "\n",
    "qc.measure(2, 0)\n",
    "\n",
    "simulator = AerSimulator()\n",
    "compiled_circuit = transpile(qc, simulator)\n",
    "job = simulator.run(compiled_circuit)\n",
    "result = job.result()\n",
    "\n",
    "\n",
    "counts = result.get_counts()\n",
    "\n",
    "\n",
    "plt.bar(counts.keys(), counts.values(), color='blue')\n",
    "plt.title(\"Measurement Histogram\")\n",
    "plt.show()\n",
    "\n",
    "print(\"Quantum Circuit\")\n",
    "qc.draw('mpl')"
   ]
  },
  {
   "cell_type": "markdown",
   "metadata": {},
   "source": [
    "\n",
    "## Applications of the CNOT Gate\n",
    "\n",
    "1. **Entanglement Creation**:\n",
    "   - The CNOT gate is critical in creating entangled states like the Bell state:\n",
    "     $$\n",
    "     \\ket{\\Phi^+} = \\frac{1}{\\sqrt{2}} (\\ket{00} + \\ket{11}).\n",
    "     $$\n",
    "     This is achieved by applying a Hadamard gate on the first qubit, followed by a CNOT gate.\n",
    "\n",
    "2. **Quantum Error Correction**:\n",
    "   - The CNOT gate is used in error-correcting codes to spread information across multiple qubits, enabling error detection and correction.\n",
    "\n",
    "3. **Basis Transformation**:\n",
    "   - It transforms a computational basis state $$ \\ket{00}, \\ket{01}, \\ket{10}, \\ket{11} $$ into another basis for certain algorithms.\n",
    "\n",
    "---\n",
    "\n",
    "## Applications of the Toffoli Gate\n",
    "\n",
    "1. **Classical Logic Simulation**:\n",
    "   - The Toffoli gate can simulate classical AND and NOT operations in a reversible manner, making it essential for quantum implementations of classical circuits.\n",
    "\n",
    "2. **Controlled-Controlled Operations**:\n",
    "   - It enables controlled-controlled operations, acting as a building block for more complex multi-qubit gates.\n",
    "\n",
    "3. **Universal for Reversible Computation**:\n",
    "   - The Toffoli gate, along with other single-qubit gates, forms a universal set for reversible computation.\n",
    "\n",
    "---"
   ]
  },
  {
   "cell_type": "markdown",
   "metadata": {},
   "source": [
    "\n",
    "## Exercise 1: Understanding the CNOT Gate\n",
    "\n",
    "Given the initial state:\n",
    "$$\n",
    "\\ket{\\psi} = \\frac{1}{\\sqrt{2}} (\\ket{00} + \\ket{01}),\n",
    "$$\n",
    "apply the **CNOT gate** to this state. Show that the resulting state is:\n",
    "$$\n",
    "\\ket{\\psi'} = \\frac{1}{\\sqrt{2}} (\\ket{00} + \\ket{11}).\n",
    "$$\n",
    "\n",
    "### Solution\n",
    "\n",
    "The CNOT gate flips the second qubit (target) only when the first qubit (control) is 1. \n",
    "\n",
    "1. Write the initial state:\n",
    "   $$\n",
    "   \\ket{\\psi} = \\frac{1}{\\sqrt{2}} (\\ket{00} + \\ket{01}).\n",
    "   $$\n",
    "\n",
    "2. Apply the CNOT gate:\n",
    "   - For 00: The control qubit is 0, so the target remains 0.\n",
    "   - For 01: The control qubit is 0, so the target remains 1.\n",
    "\n",
    "   Therefore:\n",
    "   $$\n",
    "   CNOT \\ket{\\psi} = \\frac{1}{\\sqrt{2}} (\\ket{00} + \\ket{11}).\n",
    "   $$\n",
    "\n",
    "---\n",
    "\n",
    "## Exercise 2: Toffoli Gate in Action\n",
    "\n",
    "Consider the state:\n",
    "$$\n",
    "\\ket{\\psi} = \\frac{1}{2} (\\ket{000} + \\ket{001} + \\ket{110} + \\ket{111}).\n",
    "$$\n",
    "\n",
    "Apply the **Toffoli gate** (controlled-controlled NOT) on the first two qubits as controls and the third qubit as the target. Determine the resulting state.\n",
    "\n",
    "### Solution\n",
    "\n",
    "The Toffoli gate flips the target qubit only when both control qubits are 1.\n",
    "\n",
    "1. Analyze each term in psi:\n",
    "   -  000: Controls are {0,0}, so the target is unchanged.\n",
    "   -  001: Controls are {0,0}, so the target is unchanged.\n",
    "   -  110: Controls are {0,0}, so the target 0 flips to 1.\n",
    "   -  111: Controls are {0,0}, so the target 1 flips to 0.\n",
    "\n",
    "2. Resulting state:\n",
    "   $$\n",
    "   \\ket{\\psi'} = \\frac{1}{2} (\\ket{000} + \\ket{001} + \\ket{111} + \\ket{110}).\n",
    "   $$\n"
   ]
  }
 ],
 "metadata": {
  "kernelspec": {
   "display_name": "Python 3",
   "language": "python",
   "name": "python3"
  },
  "language_info": {
   "codemirror_mode": {
    "name": "ipython",
    "version": 3
   },
   "file_extension": ".py",
   "mimetype": "text/x-python",
   "name": "python",
   "nbconvert_exporter": "python",
   "pygments_lexer": "ipython3",
   "version": "3.12.3"
  }
 },
 "nbformat": 4,
 "nbformat_minor": 2
}
