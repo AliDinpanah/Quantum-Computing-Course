{
 "cells": [
  {
   "cell_type": "code",
   "execution_count": null,
   "metadata": {},
   "outputs": [],
   "source": [
    "from qiskit import QuantumCircuit,transpile\n",
    "from qiskit_aer import AerSimulator\n",
    "import matplotlib.pyplot as plt"
   ]
  },
  {
   "cell_type": "markdown",
   "metadata": {},
   "source": [
    "### **Introduction**\n",
    "\n",
    "The Hadamard gate is one of the most fundamental quantum gates in quantum computing. It is a single-qubit gate that performs a rotation, placing a qubit into a superposition state. The Hadamard gate is crucial because it allows quantum algorithms to harness the principles of quantum mechanics, such as superposition and interference. \n",
    "\n",
    "Mathematically, the Hadamard gate is represented by a matrix that transforms the computational basis states \\(|0\\rangle\\) and \\(|1\\rangle\\) into equal superpositions of these states.\n",
    "\n",
    "The Hadamard gate is particularly important in quantum algorithms like the Deutsch-Jozsa algorithm, Grover's search algorithm, and the Quantum Fourier Transform (QFT). Its ability to create superposition makes it a building block for many quantum computations."
   ]
  },
  {
   "cell_type": "markdown",
   "metadata": {},
   "source": [
    "---\n",
    "\n",
    "### **Mathematics**\n",
    "\n",
    "The Hadamard gate is represented by the following \\( 2 \\times 2 \\) unitary matrix:\n",
    "\n",
    "$$\n",
    "H = \\frac{1}{\\sqrt{2}} \\begin{bmatrix} 1 & 1 \\\\ 1 & -1 \\end{bmatrix}\n",
    "$$\n",
    "\n",
    "This matrix satisfies the properties of unitary operators, meaning:\n",
    "\n",
    "$$\n",
    "H^\\dagger H = I\n",
    "$$\n",
    "\n",
    "Where \\( H^\\dagger \\) is the conjugate transpose (Hermitian adjoint) of \\( H \\), and \\( I \\) is the identity matrix. Additionally, the Hadamard gate is Hermitian, which means:\n",
    "\n",
    "$$\n",
    "H = H^\\dagger\n",
    "$$\n",
    "\n",
    "When applied to the computational basis states \\( |0\\rangle \\) and \\( |1\\rangle \\), the Hadamard gate creates the following transformations:\n",
    "\n",
    "$$\n",
    "H|0\\rangle = \\frac{1}{\\sqrt{2}}(|0\\rangle + |1\\rangle)\n",
    "$$\n",
    "\n",
    "$$\n",
    "H|1\\rangle = \\frac{1}{\\sqrt{2}}(|0\\rangle - |1\\rangle)\n",
    "$$\n",
    "\n",
    "These superpositions are essential for quantum parallelism, enabling quantum computers to evaluate multiple possibilities simultaneously.\n"
   ]
  },
  {
   "cell_type": "code",
   "execution_count": null,
   "metadata": {},
   "outputs": [
    {
     "data": {
      "image/png": "[encoded data removed]",
      "text/plain": [
       "<Figure size 640x480 with 1 Axes>"
      ]
     },
     "metadata": {},
     "output_type": "display_data"
    },
    {
     "name": "stdout",
     "output_type": "stream",
     "text": [
      "Quantum Circuit\n"
     ]
    },
    {
     "data": {
      "image/png": "[encoded data removed]",
      "text/plain": [
       "<Figure size 269.064x200.667 with 1 Axes>"
      ]
     },
     "execution_count": 14,
     "metadata": {},
     "output_type": "execute_result"
    }
   ],
   "source": [
    "qc = QuantumCircuit(1, 1)\n",
    "\n",
    "qc.h(0)\n",
    "\n",
    "qc.measure(0, 0)\n",
    "\n",
    "simulator = AerSimulator()\n",
    "compiled_circuit = transpile(qc, simulator)\n",
    "job = simulator.run(compiled_circuit)\n",
    "result = job.result()\n",
    "\n",
    "\n",
    "counts = result.get_counts()\n",
    "\n",
    "\n",
    "plt.bar(counts.keys(), counts.values(), color='blue')\n",
    "plt.title(\"Measurement Histogram\")\n",
    "plt.show()\n",
    "\n",
    "print(\"Quantum Circuit\")\n",
    "qc.draw('mpl')"
   ]
  },
  {
   "cell_type": "markdown",
   "metadata": {},
   "source": [
    "### **Applications**\n",
    "\n",
    "1. **Quantum Algorithms**:\n",
    "   - The Hadamard gate is critical in algorithms like the **Deutsch-Jozsa** and **Grover's algorithms**, where it initializes the qubits into a superposition state.\n",
    "     - **Deutsch-Jozsa Algorithm**: Uses the Hadamard gate to prepare a superposition of all possible input states, enabling the determination of whether a function is constant or balanced with a single query.\n",
    "     - **Grover's Algorithm**: Employs the Hadamard gate to create a uniform superposition, which is the starting point for the search process.\n",
    "\n",
    "2. **Quantum Fourier Transform (QFT)**:\n",
    "   - The Hadamard gate plays a significant role in implementing the QFT, which is a key component in quantum algorithms for factoring, phase estimation, and other computational problems.\n",
    "\n",
    "3. **Quantum Teleportation**:\n",
    "   - The Hadamard gate is used in the quantum teleportation protocol to create entanglement between qubits, enabling the transfer of quantum information from one location to another.\n"
   ]
  },
  {
   "cell_type": "markdown",
   "metadata": {},
   "source": [
    "---\n",
    "\n",
    "### **Exercises**\n",
    "\n",
    "1. **Implement a Bell State**:\n",
    "   - Design a quantum circuit to create a Bell state using the Hadamard gate and a controlled-NOT (CNOT) gate. The Bell state is a maximally entangled state and is represented as:\n",
    "     $$\n",
    "     |\\Phi^+\\rangle = \\frac{1}{\\sqrt{2}}(|00\\rangle + |11\\rangle)\n",
    "     $$\n",
    "\n",
    "   #### Solution:\n",
    "   To create the Bell state, follow these steps:\n",
    "   - Apply a **Hadamard** gate to the first qubit.\n",
    "   - Apply a **CNOT** gate with the first qubit as the control and the second qubit as the target.\n",
    "   \n",
    "   The quantum circuit is as follows:\n",
    "   - Start with two qubits in the \\( \\ket{00} \\) state.\n",
    "   - Apply the Hadamard gate to the first qubit:\n",
    "     $$\n",
    "     H \\ket{0} = \\frac{1}{\\sqrt{2}} (\\ket{0} + \\ket{1}).\n",
    "     $$\n",
    "   - Then apply the CNOT gate:\n",
    "     $$\n",
    "     \\text{CNOT} \\left( \\frac{1}{\\sqrt{2}} (\\ket{0} + \\ket{1}) \\right) \\ket{0} = \\frac{1}{\\sqrt{2}} (\\ket{00} + \\ket{11}).\n",
    "     $$\n",
    "\n",
    "   Therefore, the resulting state is:\n",
    "   $$\n",
    "   |\\Phi^+\\rangle = \\frac{1}{\\sqrt{2}}(|00\\rangle + |11\\rangle)\n",
    "   $$\n",
    "\n",
    "2. **Verify Double Hadamard Application**:\n",
    "   - Show that applying two consecutive Hadamard gates to a qubit returns it to its original state. Mathematically, this is represented as:\n",
    "     $$\n",
    "     H \\cdot H = I\n",
    "     $$\n",
    "\n",
    "   #### Solution:\n",
    "   The Hadamard gate acts on the computational basis states as follows:\n",
    "    $$  H \\ket{0} = \\frac{1}{\\sqrt{2}} (\\ket{0} + \\ket{1}) $$\n",
    "    $$  H \\ket{1} = \\frac{1}{\\sqrt{2}} (\\ket{0} - \\ket{1}) $$\n",
    "\n",
    "   Now, applying two Hadamard gates:\n",
    "   - First apply \\( H \\) to \\( \\ket{0} \\):\n",
    "     $$\n",
    "     H \\ket{0} = \\frac{1}{\\sqrt{2}} (\\ket{0} + \\ket{1}).\n",
    "     $$\n",
    "   - Apply the second Hadamard gate:\n",
    "     $$\n",
    "     H \\left( \\frac{1}{\\sqrt{2}} (\\ket{0} + \\ket{1}) \\right) = \\frac{1}{\\sqrt{2}} \\left( \\frac{1}{\\sqrt{2}} (\\ket{0} + \\ket{1}) + \\frac{1}{\\sqrt{2}} (\\ket{0} - \\ket{1}) \\right)\n",
    "     $$\n",
    "     Simplifying:\n",
    "     $$\n",
    "     H \\cdot H \\ket{0} = \\ket{0}.\n",
    "     $$\n",
    "\n",
    "   Similarly, applying the Hadamard gate twice on 1 returns 1:\n",
    "   - Apply \\( H \\) to 1\n",
    "     $$\n",
    "     H \\ket{1} = \\frac{1}{\\sqrt{2}} (\\ket{0} - \\ket{1}).\n",
    "     $$\n",
    "   - Apply the second Hadamard gate:\n",
    "     $$\n",
    "     H \\left( \\frac{1}{\\sqrt{2}} (\\ket{0} - \\ket{1}) \\right) = \\frac{1}{\\sqrt{2}} \\left( \\frac{1}{\\sqrt{2}} (\\ket{0} + \\ket{1}) - \\frac{1}{\\sqrt{2}} (\\ket{0} - \\ket{1}) \\right)\n",
    "     $$\n",
    "     Simplifying:\n",
    "     $$\n",
    "     H \\cdot H \\ket{1} = \\ket{1}.\n",
    "     $$\n",
    "\n",
    "   Thus, we can conclude that:\n",
    "   $$\n",
    "   H \\cdot H = I\n",
    "   $$\n",
    "\n",
    "   This verifies that applying two Hadamard gates results in the identity operation, returning the qubit to its original state.\n"
   ]
  }
 ],
 "metadata": {
  "kernelspec": {
   "display_name": "Python 3",
   "language": "python",
   "name": "python3"
  },
  "language_info": {
   "codemirror_mode": {
    "name": "ipython",
    "version": 3
   },
   "file_extension": ".py",
   "mimetype": "text/x-python",
   "name": "python",
   "nbconvert_exporter": "python",
   "pygments_lexer": "ipython3",
   "version": "3.12.3"
  }
 },
 "nbformat": 4,
 "nbformat_minor": 2
}
