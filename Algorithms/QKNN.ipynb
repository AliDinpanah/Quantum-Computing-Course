{
 "cells": [
  {
   "cell_type": "markdown",
   "metadata": {},
   "source": [
    "# Conceptual Qk-NN (Quantum Distance Estimation)\n",
    "\n",
    "This notebook demonstrates a simplified implementation of the *quantum distance estimation* part of Quantum k-Nearest Neighbors (Qk-NN) using Qiskit. It focuses on the **Swap Test**, which is used to estimate the distance between two vectors represented as quantum states.  This is *not* a complete Qk-NN implementation, but it illustrates the key quantum principle.\n",
    "\n",
    "**We will:**\n",
    "\n",
    "1.  Encode vectors using a simplified amplitude encoding.\n",
    "2.  Implement the Swap Test circuit.\n",
    "3.  Estimate distances using the Swap Test.\n",
    "4.  Show a basic example of comparing distances.\n",
    "\n",
    "---\n"
   ]
  },
  {
   "cell_type": "markdown",
   "metadata": {},
   "source": [
    "## Step 1: Import Necessary Libraries\n",
    "\n",
    "We begin by importing the necessary libraries:\n",
    "\n",
    "*   **Qiskit:**\n",
    "    *   `QuantumCircuit`: For building quantum circuits.\n",
    "    *   `QuantumRegister`: For creating groups of qubits.\n",
    "    *   `ClassicalRegister`: For storing measurement results (classical bits).\n",
    "    *   `transpile`: For optimizing circuits for a specific backend (simulator or hardware).\n",
    "*   **Qiskit Aer:**\n",
    "    *   `AerSimulator`: For simulating quantum circuits on a classical computer.\n",
    "*   **NumPy:**\n",
    "    *   `import numpy as np`: For numerical operations (arrays, mathematical functions), using the alias `np`."
   ]
  },
  {
   "cell_type": "code",
   "execution_count": 7,
   "metadata": {},
   "outputs": [],
   "source": [
    "from qiskit import QuantumCircuit, QuantumRegister, ClassicalRegister, transpile\n",
    "from qiskit_aer import AerSimulator\n",
    "import numpy as np"
   ]
  },
  {
   "cell_type": "markdown",
   "metadata": {},
   "source": [
    "## Step 2: Define the Encoding Function (`encode_vector`)\n",
    "\n",
    "The `encode_vector` function performs a simplified *amplitude encoding*:\n",
    "\n",
    "*   **Function Definition:** `def encode_vector(vector):`\n",
    "    *   `vector`: A *normalized* 2D NumPy array (e.g., `[0.8, 0.6]`).\n",
    "\n",
    "*   **Docstring:**  Explains the function's purpose (amplitude encoding).\n",
    "\n",
    "*   **Simplification Note:**  This is a simplified encoding *only for 2D vectors*. Real-world amplitude encoding is much more complex.\n",
    "\n",
    "*   **Quantum Circuit Creation:** `qc = QuantumCircuit(1)`: Creates a `QuantumCircuit` with *one* qubit (sufficient for a 2D vector).\n",
    "\n",
    "*   **Rotation Gate:** `qc.ry(2 * np.arccos(vector[0]), 0)`: Applies an `ry` gate (Y-axis rotation) to the qubit.\n",
    "    *   `np.arccos(vector[0])`: Calculates the arccosine of the vector's first element (to get the angle).\n",
    "    *   `2 * ...`:  Multiplies the angle by 2. The `ry` gate's angle parameter is *half* the rotation angle on the Bloch sphere.\n",
    "    *   `0`: Applies the gate to qubit 0.\n",
    "\n",
    "*   **Return Value:** `return qc`: Returns the `QuantumCircuit` representing the encoded state.\n",
    "\n",
    "**In summary, this function takes a normalized 2D vector and creates a quantum circuit that prepares a single qubit in a state whose amplitudes correspond to the vector's components.**\n"
   ]
  },
  {
   "cell_type": "code",
   "execution_count": 8,
   "metadata": {},
   "outputs": [],
   "source": [
    "def encode_vector(vector):\n",
    "    \"\"\"Encodes a normalized vector into a quantum state (amplitude encoding).\"\"\"\n",
    "    # VERY simplified for 2D vectors only.  Real-world encoding is more complex.\n",
    "    qc = QuantumCircuit(1)\n",
    "    qc.ry(2 * np.arccos(vector[0]), 0) # Encode angle based on vector components\n",
    "    return qc"
   ]
  },
  {
   "cell_type": "markdown",
   "metadata": {},
   "source": [
    "## Step 3: Define the Swap Test Function (`swap_test`)\n",
    "\n",
    "The `swap_test` function implements the quantum Swap Test:\n",
    "\n",
    "*   **Function Definition:** `def swap_test(vector1, vector2):`\n",
    "    *   `vector1`: The first normalized 2D vector.\n",
    "    *   `vector2`: The second normalized 2D vector.\n",
    "\n",
    "*   **Encoding:**\n",
    "    *   `encoded_vec1 = encode_vector(vector1)`: Encodes `vector1`.\n",
    "    *   `encoded_vec2 = encode_vector(vector2)`: Encodes `vector2`.\n",
    "\n",
    "*   **Register Creation:**\n",
    "    *   `qreg_q = QuantumRegister(3, 'q')`: Creates a quantum register with *three* qubits ('q').\n",
    "    *   `creg_c = ClassicalRegister(1, 'c')`: Creates a classical register with *one* bit ('c').\n",
    "\n",
    "*   **Circuit Creation:** `circuit = QuantumCircuit(qreg_q, creg_c)`: Creates a `QuantumCircuit`.\n",
    "\n",
    "*   **Composing Encoded Vectors:**\n",
    "    *   `circuit.compose(encoded_vec1, qubits=[1], inplace=True)`: Adds `encoded_vec1` to qubit 1.\n",
    "    *   `circuit.compose(encoded_vec2, qubits=[2], inplace=True)`: Adds `encoded_vec2` to qubit 2.\n",
    "\n",
    "*   **Hadamard Gate:** `circuit.h(qreg_q[0])`: Applies a Hadamard gate to the control qubit (qubit 0).\n",
    "\n",
    "*   **CSWAP Gate:** `circuit.cswap(qreg_q[0], qreg_q[1], qreg_q[2])`: Applies the controlled-SWAP.\n",
    "    *   Control qubit: `qreg_q[0]`\n",
    "    *   Target qubits: `qreg_q[1]` and `qreg_q[2]`\n",
    "\n",
    "*   **Second Hadamard Gate:** `circuit.h(qreg_q[0])`: Applies another Hadamard to the control qubit.\n",
    "\n",
    "*   **Measurement:** `circuit.measure(qreg_q[0], creg_c[0])`: Measures the control qubit.\n",
    "\n",
    "*   **Return Value:** `return circuit`: Returns the Swap Test circuit.\n",
    "\n",
    "**This function constructs the Swap Test circuit, the core quantum component for estimating the distance.**\n"
   ]
  },
  {
   "cell_type": "code",
   "execution_count": 9,
   "metadata": {},
   "outputs": [],
   "source": [
    "def swap_test(vector1, vector2):\n",
    "    \"\"\"Performs a Swap Test to estimate distance between two vectors.\"\"\"\n",
    "\n",
    "    encoded_vec1 = encode_vector(vector1)\n",
    "    encoded_vec2 = encode_vector(vector2)\n",
    "\n",
    "    # Create quantum and classical registers\n",
    "    qreg_q = QuantumRegister(3, 'q')\n",
    "    creg_c = ClassicalRegister(1, 'c')\n",
    "    circuit = QuantumCircuit(qreg_q, creg_c)\n",
    "\n",
    "    # Initialize qubits with encoded vectors\n",
    "    circuit.compose(encoded_vec1, qubits=[1], inplace=True)\n",
    "    circuit.compose(encoded_vec2, qubits=[2], inplace=True)\n",
    "\n",
    "    # Apply Hadamard to the control qubit\n",
    "    circuit.h(qreg_q[0])\n",
    "    # Apply CSWAP (controlled-SWAP) gate\n",
    "    circuit.cswap(qreg_q[0], qreg_q[1], qreg_q[2])\n",
    "    # Apply Hadamard to the control qubit\n",
    "    circuit.h(qreg_q[0])\n",
    "    # Measure the control qubit\n",
    "    circuit.measure(qreg_q[0], creg_c[0])\n",
    "\n",
    "    return circuit"
   ]
  },
  {
   "cell_type": "markdown",
   "metadata": {},
   "source": [
    "## Step 4: Define the Distance Estimation Function (`estimate_distance`)\n",
    "\n",
    "The `estimate_distance` function estimates the distance between two vectors:\n",
    "\n",
    "*   **Function Definition:** `def estimate_distance(vector1, vector2, shots=1024):`\n",
    "    *   `vector1`, `vector2`: The input vectors.\n",
    "    *   `shots=1024`: The number of simulation runs (default: 1024).\n",
    "\n",
    "*   **Circuit Creation:** `circuit = swap_test(vector1, vector2)`: Creates the Swap Test circuit.\n",
    "\n",
    "*   **Simulation Setup:**\n",
    "    *   `simulator = AerSimulator()`: Creates an `AerSimulator`.\n",
    "    *   `compiled_circuit = transpile(circuit, simulator)`: Optimizes the circuit.\n",
    "    *   `job = simulator.run(compiled_circuit, shots=shots)`: Runs the simulation.\n",
    "    *   `result = job.result()`: Gets the results.\n",
    "    *   `counts = result.get_counts(circuit)`: Gets measurement counts.\n",
    "\n",
    "*   **Probability Calculation:** `prob_0 = counts.get('0', 0) / shots`: Calculates P(0).\n",
    "\n",
    "*   **Distance Calculation:**\n",
    "    *   `distance_squared = 2 * (1 - prob_0)`: Calculates squared distance.\n",
    "    *   `distance = np.sqrt(max(0, distance_squared))`: Calculates distance.\n",
    "\n",
    "*   **Return Value:** `return distance`: Returns the estimated distance.\n",
    "\n",
    "**This function orchestrates the simulation of the Swap Test and extracts the estimated distance.**\n"
   ]
  },
  {
   "cell_type": "code",
   "execution_count": 10,
   "metadata": {},
   "outputs": [],
   "source": [
    "def estimate_distance(vector1, vector2, shots=1024):\n",
    "    \"\"\"Estimates distance using the Swap Test results.\"\"\"\n",
    "\n",
    "    circuit = swap_test(vector1, vector2)\n",
    "\n",
    "    # Simulate the circuit\n",
    "    simulator = AerSimulator()\n",
    "    compiled_circuit = transpile(circuit, simulator)\n",
    "    job = simulator.run(compiled_circuit, shots=shots)\n",
    "    result = job.result()\n",
    "    counts = result.get_counts(circuit)\n",
    "\n",
    "    # Calculate probability of measuring 0\n",
    "    prob_0 = counts.get('0', 0) / shots\n",
    "\n",
    "    # Distance estimation (derived from Swap Test probability)\n",
    "    distance_squared = 2 * (1 - prob_0)  # 1 - <psi1|psi2>  (inner product)\n",
    "    distance = np.sqrt(max(0, distance_squared))  # Ensure non-negative\n",
    "\n",
    "    return distance"
   ]
  },
  {
   "cell_type": "markdown",
   "metadata": {},
   "source": [
    "## Step 5: Example Usage\n",
    "\n",
    "This section demonstrates how to *use* the defined functions:\n",
    "\n",
    "*   **Data Definition:**\n",
    "    *   `data_point1 = ...`, `data_point2 = ...`, `new_point = ...`: Defines example data points.\n",
    "\n",
    "*   **Distance Calculation:**\n",
    "    *   `distance1 = ...`: Calculates distance between `new_point` and `data_point1`.\n",
    "    *   `distance2 = ...`: Calculates distance between `new_point` and `data_point2`.\n",
    "\n",
    "*   **Output:** `print(...)`: Prints the estimated distances.\n",
    "\n",
    "*   **Comparison:** `if ... else ...`: Compares distances.\n",
    "\n",
    "*   **Important Note:** This is a simplified example. A complete Qk-NN would require calculating distances to all training points and finding the *k* smallest distances, along with a final classical majority vote.\n"
   ]
  },
  {
   "cell_type": "code",
   "execution_count": 14,
   "metadata": {},
   "outputs": [
    {
     "name": "stdout",
     "output_type": "stream",
     "text": [
      "Estimated distance to point 1: 0.1654\n",
      "Estimated distance to point 2: 0.1169\n",
      "Point 2 is closer.\n"
     ]
    }
   ],
   "source": [
    "# --- Example Usage ---\n",
    "# Two very simple 2D data points (normalized)\n",
    "data_point1 = np.array([0.8, 0.6])\n",
    "data_point2 = np.array([0.6, 0.8])\n",
    "new_point = np.array([0.7, 0.71])  # close to equal distance\n",
    "\n",
    "# Estimate distances using the quantum Swap Test\n",
    "distance1 = estimate_distance(new_point, data_point1)\n",
    "distance2 = estimate_distance(new_point, data_point2)\n",
    "\n",
    "print(f\"Estimated distance to point 1: {distance1:.4f}\")\n",
    "print(f\"Estimated distance to point 2: {distance2:.4f}\")\n",
    "\n",
    "# Find the smallest distance (this would be repeated for all data points in a full Qk-NN)\n",
    "#  In a real implementation, you'd use a quantum algorithm to find the k-smallest.\n",
    "if distance1 < distance2:\n",
    "    print(\"Point 1 is closer.\")\n",
    "else:\n",
    "    print(\"Point 2 is closer.\")"
   ]
  }
 ],
 "metadata": {
  "kernelspec": {
   "display_name": "Python 3",
   "language": "python",
   "name": "python3"
  },
  "language_info": {
   "codemirror_mode": {
    "name": "ipython",
    "version": 3
   },
   "file_extension": ".py",
   "mimetype": "text/x-python",
   "name": "python",
   "nbconvert_exporter": "python",
   "pygments_lexer": "ipython3",
   "version": "3.12.3"
  }
 },
 "nbformat": 4,
 "nbformat_minor": 2
}
