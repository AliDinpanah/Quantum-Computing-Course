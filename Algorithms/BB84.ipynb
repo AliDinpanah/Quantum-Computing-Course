	
cells	
0	
cell_type	"markdown"
metadata	{}
source	
0	"# **BB84 Quantum Key Distribution Protocol**\n"
1	"\n"
2	"In this notebook, we will implement the BB84 protocol, a quantum key distribution protocol that allows two parties (Alice and Bob) to securely share a cryptographic key using quantum mechanics. The protocol leverages quantum superposition and the principle of measurement to ensure secure communication."
1	
cell_type	"code"
execution_count	3
metadata	{}
outputs	[]
source	
0	"from qiskit import QuantumCircuit, transpile\n"
1	"from qiskit_aer import AerSimulator\n"
2	"import random"
2	
cell_type	"markdown"
metadata	{}
source	
0	"## Import Libraries\n"
1	"- **Qiskit**: A framework for quantum programming.\n"
2	"- We use AerSimulator for simulating the quantum circuit and execute to run it.\n"
3	"- plot_histogram is used for visualizing the output.\n"
3	
cell_type	"code"
execution_count	null
metadata	{}
outputs	[]
source	
0	"def generate_random_bits(length):\n"
1	"    return [random.randint(0, 1) for _ in range(length)]\n"
2	"\n"
3	"def generate_random_bases(length):\n"
4	"    return [random.choice(['X', 'Z']) for _ in range(length)]"
4	
cell_type	"markdown"
metadata	{}
source	
0	"## Random Bit and Basis Generation\n"
1	"\n"
2	"- **Alice** creates a random sequence of bits (`0` or `1`) and bases (`X` or `Z`) to encode her key.  \n"
3	"  - The bits represent the data to encode.  \n"
4	"  - The bases determine how the qubits are prepared (in the standard basis $Z$ or the Hadamard basis $X$).\n"
5	
cell_type	"code"
execution_count	null
metadata	{}
outputs	[]
source	
0	"\n"
1	"def encode_qubits(bits, bases):\n"
2	"    qubits = []\n"
3	"    for bit, basis in zip(bits, bases):\n"
4	"        qc = QuantumCircuit(1, 1)\n"
5	"        if basis == 'X':\n"
6	"            qc.h(0)\n"
7	"        if bit == 1:\n"
8	"            qc.x(0) \n"
9	"        if basis == 'X':  \n"
10	"            qc.h(0)\n"
11	"        qubits.append(qc)\n"
12	"    return qubits"
6	
cell_type	"markdown"
metadata	{}
source	
0	"## Encoding Qubits\n"
1	"\n"
2	"- For each bit, **Alice** prepares a qubit:\n"
3	"  - If the basis is $Z$, the qubit is prepared as $\\ket{0}$ or $\\ket{1}$ based on the bit value.  \n"
4	"  - If the basis is $X$, she first applies a **Hadamard gate** to enter the superposition basis and encodes the bit accordingly.  \n"
5	"  - Finally, Alice ensures the qubit is in the correct basis by applying another **Hadamard gate** if needed.\n"
7	
cell_type	"code"
execution_count	null
metadata	{}
outputs	[]
source	
0	"def measure_qubits(qubits, bases):\n"
1	'    """Measure qubits in specified bases."""\n'
2	"    simulator = AerSimulator()\n"
3	"    measurements = []\n"
4	"    for qc, basis in zip(qubits, bases):\n"
5	"        if basis == 'X':  \n"
6	"            qc.h(0)\n"
7	"        qc.measure(0, 0)\n"
8	"\n"
9	"        compiled_circuit = transpile(qc, simulator)\n"
10	"        job = simulator.run(compiled_circuit)\n"
11	"        result = job.result()\n"
12	"        counts = result.get_counts()\n"
13	"        measurements.append(int(list(counts.keys())[0]))  \n"
14	"\n"
15	"    return measurements"
8	
cell_type	"markdown"
metadata	{}
source	
0	"## Bob's Measurement\n"
1	"\n"
2	"- **Bob** generates a random sequence of bases ($X$ or $Z$) to measure Alice's qubits.  \n"
3	"  - If his basis matches Alice's, he measures the qubit accurately.  \n"
4	"  - If his basis differs, he measures in the wrong basis, leading to random outcomes.\n"
5	"\n"
9	
cell_type	"code"
execution_count	null
metadata	{}
outputs	[]
source	
0	"def sift_key(alice_bits, bob_bits, alice_bases, bob_bases):\n"
1	"    sifted_key = []\n"
2	"    for a_base, b_base, a_bit, b_bit in zip(alice_bases, bob_bases, alice_bits, bob_bits):\n"
3	"        if a_base == b_base:  \n"
4	"            sifted_key.append(0)\n"
5	"        else:\n"
6	"            sifted_key.append(1)            \n"
7	"    return sifted_key\n"
10	
cell_type	"markdown"
metadata	{}
source	
0	"## Key Sifting\n"
1	"\n"
2	"- **Alice** and **Bob** compare their bases.  \n"
3	"- For every qubit where the bases match, they retain the corresponding bit.  \n"
4	"- This process eliminates any mismatches caused by differing bases.\n"
11	
cell_type	"code"
execution_count	null
metadata	{}
outputs	
0	
name	"stdout"
output_type	"stream"
text	
0	"Alice's bits:    [0, 0, 0, 1, 1, 0, 1, 0, 1, 0]\n"
1	"Alice's bases:   ['X', 'Z', 'Z', 'X', 'X', 'X', 'X', 'X', 'Z', 'X']\n"
2	"Bob's bases:     ['X', 'X', 'X', 'Z', 'X', 'X', 'Z', 'X', 'Z', 'X']\n"
3	"Bob's bits:      [1, 1, 0, 0, 1, 0, 0, 0, 1, 0]\n"
4	"Base:            [0, 1, 1, 1, 0, 0, 1, 0, 0, 0]\n"
source	
0	"key_length = 10  \n"
1	"alice_bits = generate_random_bits(key_length)\n"
2	"alice_bases = generate_random_bases(key_length)\n"
3	"\n"
4	"\n"
5	"encoded_qubits = encode_qubits(alice_bits, alice_bases)\n"
6	"\n"
7	"\n"
8	"bob_bases = generate_random_bases(key_length)\n"
9	"bob_bits = measure_qubits(encoded_qubits, bob_bases)\n"
10	"\n"
11	"\n"
12	"sifted_key = sift_key(alice_bits, bob_bits, alice_bases, bob_bases)\n"
13	"\n"
14	"\n"
15	`print("Alice's bits:   ", alice_bits)\n`
16	`print("Alice's bases:  ", alice_bases)\n`
17	`print("Bob's bases:    ", bob_bases)\n`
18	`print("Bob's bits:     ", bob_bits)\n`
19	'print("Base:           ", sifted_key)'
12	
cell_type	"markdown"
metadata	{}
source	
0	"## Purpose\n"
1	"\n"
2	"This code demonstrates the principles of the **BB84 protocol**:  \n"
3	"- **Quantum Superposition and Measurement**: The encoding and measurement depend on the choice of basis.  \n"
4	"- **Key Agreement**: By comparing bases, Alice and Bob can securely agree on a shared key, even if an eavesdropper intercepts the qubits (not shown here).\n"
metadata	
kernelspec	
display_name	"Python 3"
language	"python"
name	"python3"
language_info	
codemirror_mode	
name	"ipython"
version	3
file_extension	".py"
mimetype	"text/x-python"
name	"python"
nbconvert_exporter	"python"
pygments_lexer	"ipython3"
version	"3.12.3"
nbformat	4
nbformat_minor	2
