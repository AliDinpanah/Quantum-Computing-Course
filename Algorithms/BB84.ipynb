{
 "cells": [
  {
   "cell_type": "markdown",
   "metadata": {},
   "source": [
    "# **BB84 Quantum Key Distribution Protocol**\n",
    "\n",
    "In this notebook, we will implement the BB84 protocol, a quantum key distribution protocol that allows two parties (Alice and Bob) to securely share a cryptographic key using quantum mechanics. The protocol leverages quantum superposition and the principle of measurement to ensure secure communication."
   ]
  },
  {
   "cell_type": "code",
   "execution_count": 3,
   "metadata": {},
   "outputs": [],
   "source": [
    "from qiskit import QuantumCircuit, transpile\n",
    "from qiskit_aer import AerSimulator\n",
    "import random"
   ]
  },
  {
   "cell_type": "markdown",
   "metadata": {},
   "source": [
    "## Import Libraries\n",
    "- **Qiskit**: A framework for quantum programming.\n",
    "- We use AerSimulator for simulating the quantum circuit and execute to run it.\n",
    "- plot_histogram is used for visualizing the output.\n"
   ]
  },
  {
   "cell_type": "code",
   "execution_count": 4,
   "metadata": {},
   "outputs": [],
   "source": [
    "def generate_random_bits(length):\n",
    "    \"\"\"Generate a random bit string of given length.\"\"\"\n",
    "    return [random.randint(0, 1) for _ in range(length)]\n",
    "\n",
    "def generate_random_bases(length):\n",
    "    \"\"\"Generate a random list of bases ('X' or 'Z') of given length.\"\"\"\n",
    "    return [random.choice(['X', 'Z']) for _ in range(length)]"
   ]
  },
  {
   "cell_type": "markdown",
   "metadata": {},
   "source": [
    "## Random Bit and Basis Generation\n",
    "\n",
    "- **Alice** creates a random sequence of bits (`0` or `1`) and bases (`X` or `Z`) to encode her key.  \n",
    "  - The bits represent the data to encode.  \n",
    "  - The bases determine how the qubits are prepared (in the standard basis $Z$ or the Hadamard basis $X$).\n"
   ]
  },
  {
   "cell_type": "code",
   "execution_count": 5,
   "metadata": {},
   "outputs": [],
   "source": [
    "\n",
    "def encode_qubits(bits, bases):\n",
    "    \"\"\"Encode bits into qubits using the specified bases.\"\"\"\n",
    "    qubits = []\n",
    "    for bit, basis in zip(bits, bases):\n",
    "        qc = QuantumCircuit(1, 1)\n",
    "        if basis == 'X':  # Encode in X-basis (Hadamard basis)\n",
    "            qc.h(0)\n",
    "        if bit == 1:\n",
    "            qc.x(0)  # Apply X gate for 1\n",
    "        if basis == 'X':  # Ensure qubit is in correct basis\n",
    "            qc.h(0)\n",
    "        qubits.append(qc)\n",
    "    return qubits"
   ]
  },
  {
   "cell_type": "markdown",
   "metadata": {},
   "source": [
    "## Encoding Qubits\n",
    "\n",
    "- For each bit, **Alice** prepares a qubit:\n",
    "  - If the basis is $Z$, the qubit is prepared as $\\ket{0}$ or $\\ket{1}$ based on the bit value.  \n",
    "  - If the basis is $X$, she first applies a **Hadamard gate** to enter the superposition basis and encodes the bit accordingly.  \n",
    "  - Finally, Alice ensures the qubit is in the correct basis by applying another **Hadamard gate** if needed.\n"
   ]
  },
  {
   "cell_type": "code",
   "execution_count": 6,
   "metadata": {},
   "outputs": [],
   "source": [
    "def measure_qubits(qubits, bases):\n",
    "    \"\"\"Measure qubits in specified bases.\"\"\"\n",
    "    simulator = AerSimulator()\n",
    "    measurements = []\n",
    "    for qc, basis in zip(qubits, bases):\n",
    "        if basis == 'X':  # Measure in X-basis\n",
    "            qc.h(0)\n",
    "        qc.measure(0, 0)\n",
    "\n",
    "        compiled_circuit = transpile(qc, simulator)\n",
    "        job = simulator.run(compiled_circuit)\n",
    "        result = job.result()\n",
    "        counts = result.get_counts()\n",
    "        measurements.append(int(list(counts.keys())[0]))  # Extract the measured bit\n",
    "\n",
    "    return measurements"
   ]
  },
  {
   "cell_type": "markdown",
   "metadata": {},
   "source": [
    "## Bob's Measurement\n",
    "\n",
    "- **Bob** generates a random sequence of bases ($X$ or $Z$) to measure Alice's qubits.  \n",
    "  - If his basis matches Alice's, he measures the qubit accurately.  \n",
    "  - If his basis differs, he measures in the wrong basis, leading to random outcomes.\n",
    "\n"
   ]
  },
  {
   "cell_type": "code",
   "execution_count": 16,
   "metadata": {},
   "outputs": [],
   "source": [
    "def sift_key(alice_bits, bob_bits, alice_bases, bob_bases):\n",
    "    \"\"\"Sift the key by comparing bases.\"\"\"\n",
    "    sifted_key = []\n",
    "    for a_base, b_base, a_bit, b_bit in zip(alice_bases, bob_bases, alice_bits, bob_bits):\n",
    "        if a_base == b_base:  # Keep only if bases match\n",
    "            sifted_key.append(0)\n",
    "        else:\n",
    "            sifted_key.append(1)            \n",
    "    return sifted_key\n"
   ]
  },
  {
   "cell_type": "markdown",
   "metadata": {},
   "source": [
    "## Key Sifting\n",
    "\n",
    "- **Alice** and **Bob** compare their bases.  \n",
    "- For every qubit where the bases match, they retain the corresponding bit.  \n",
    "- This process eliminates any mismatches caused by differing bases.\n"
   ]
  },
  {
   "cell_type": "code",
   "execution_count": 17,
   "metadata": {},
   "outputs": [
    {
     "name": "stdout",
     "output_type": "stream",
     "text": [
      "Alice's bits:    [0, 0, 0, 1, 1, 0, 1, 0, 1, 0]\n",
      "Alice's bases:   ['X', 'Z', 'Z', 'X', 'X', 'X', 'X', 'X', 'Z', 'X']\n",
      "Bob's bases:     ['X', 'X', 'X', 'Z', 'X', 'X', 'Z', 'X', 'Z', 'X']\n",
      "Bob's bits:      [1, 1, 0, 0, 1, 0, 0, 0, 1, 0]\n",
      "Base:            [0, 1, 1, 1, 0, 0, 1, 0, 0, 0]\n"
     ]
    }
   ],
   "source": [
    "# Step 1: Alice generates random bits and bases\n",
    "key_length = 10  # Length of the key to generate\n",
    "alice_bits = generate_random_bits(key_length)\n",
    "alice_bases = generate_random_bases(key_length)\n",
    "\n",
    "# Step 2: Alice encodes her bits into qubits\n",
    "encoded_qubits = encode_qubits(alice_bits, alice_bases)\n",
    "\n",
    "# Step 3: Bob generates random bases and measures Alice's qubits\n",
    "bob_bases = generate_random_bases(key_length)\n",
    "bob_bits = measure_qubits(encoded_qubits, bob_bases)\n",
    "\n",
    "# Step 4: Alice and Bob compare their bases\n",
    "sifted_key = sift_key(alice_bits, bob_bits, alice_bases, bob_bases)\n",
    "\n",
    "# Output the results\n",
    "print(\"Alice's bits:   \", alice_bits)\n",
    "print(\"Alice's bases:  \", alice_bases)\n",
    "print(\"Bob's bases:    \", bob_bases)\n",
    "print(\"Bob's bits:     \", bob_bits)\n",
    "print(\"Base:           \", sifted_key)"
   ]
  },
  {
   "cell_type": "markdown",
   "metadata": {},
   "source": [
    "## Purpose\n",
    "\n",
    "This code demonstrates the principles of the **BB84 protocol**:  \n",
    "- **Quantum Superposition and Measurement**: The encoding and measurement depend on the choice of basis.  \n",
    "- **Key Agreement**: By comparing bases, Alice and Bob can securely agree on a shared key, even if an eavesdropper intercepts the qubits (not shown here).\n"
   ]
  }
 ],
 "metadata": {
  "kernelspec": {
   "display_name": "Python 3",
   "language": "python",
   "name": "python3"
  },
  "language_info": {
   "codemirror_mode": {
    "name": "ipython",
    "version": 3
   },
   "file_extension": ".py",
   "mimetype": "text/x-python",
   "name": "python",
   "nbconvert_exporter": "python",
   "pygments_lexer": "ipython3",
   "version": "3.12.3"
  }
 },
 "nbformat": 4,
 "nbformat_minor": 2
}
