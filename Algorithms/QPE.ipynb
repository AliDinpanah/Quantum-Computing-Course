{
 "cells": [
  {
   "cell_type": "markdown",
   "metadata": {},
   "source": [
    "# Quantum Phase Estimation (QPE) Algorithm\n",
    "\n",
    "The Quantum Phase Estimation (QPE) algorithm is a fundamental quantum algorithm used to estimate the phase (or eigenvalue) associated with a unitary operator. It plays a crucial role in quantum computing, especially in algorithms like Shor's algorithm for factoring.\n",
    "\n",
    "In this notebook, we will:\n",
    "1. Implement the QPE algorithm\n",
    "2. Break down each step of the algorithm\n",
    "3. Test QPE on a simple example\n"
   ]
  },
  {
   "cell_type": "code",
   "execution_count": 1,
   "metadata": {},
   "outputs": [],
   "source": [
    "from qiskit import QuantumCircuit, transpile\n",
    "from qiskit_aer import AerSimulator\n",
    "import numpy as np\n"
   ]
  },
  {
   "cell_type": "markdown",
   "metadata": {},
   "source": [
    "## Step 1: Import Necessary Libraries\n",
    "- Qiskit:\n",
    "  - QuantumCircuit for constructing quantum circuits\n",
    "  - transpile to optimize circuits for the simulator\n",
    "- AerSimulator as the backend for running and testing the quantum circuits\n",
    "- NumPy for mathematical operations like pi\n"
   ]
  },
  {
   "cell_type": "code",
   "execution_count": null,
   "metadata": {},
   "outputs": [],
   "source": [
    "def apply_qpe(unitary, n_qubits, state):\n",
    "    qc = QuantumCircuit(n_qubits, len(state) + n_qubits)\n",
    "\n",
    "    \n",
    "    for qubit, bit in enumerate(reversed(state)):\n",
    "        if bit == '1':\n",
    "            qc.x(qubit)\n",
    "    \n",
    "    for qubit in range(n_qubits):\n",
    "        qc.h(qubit)\n",
    "    \n",
    "\n",
    "    for i in range(n_qubits):\n",
    "        for j in range(i + 1, n_qubits):\n",
    "            qc.append(unitary, [j, i])\n",
    "    \n",
    "    qc.measure(range(n_qubits), range(n_qubits, n_qubits + n_qubits))\n",
    "    return qc\n"
   ]
  },
  {
   "cell_type": "markdown",
   "metadata": {},
   "source": [
    "## Step 2: QPE Circuit Construction\n",
    "1. **State Initialization:**\n",
    "   - Prepare the quantum state to which we want to apply phase estimation (e.g., a superposition state).\n",
    "   - The state qubits are initialized based on the input state (in binary form).\n",
    "\n",
    "2. **Hadamard Gates:**\n",
    "   - Apply Hadamard gates to the ancilla qubits (the first n_qubits qubits) to create superposition.\n",
    "\n",
    "3. **Controlled Unitary Gates:**\n",
    "   - Apply the controlled version of the unitary operator to the qubits. The unitary operator is typically an operation whose eigenvalue we wish to estimate.\n",
    "   - These gates apply the operator to the state qubits, with the ancilla qubits controlling how the operator acts.\n",
    "\n",
    "4. **Measurement:**\n",
    "   - Measure the ancilla qubits to extract the phase information from the quantum state.\n",
    "   - The output of these measurements will give us an approximation of the phase of the unitary operator.\n"
   ]
  },
  {
   "cell_type": "code",
   "execution_count": 3,
   "metadata": {},
   "outputs": [],
   "source": [
    "def run_qpe(input_state, unitary):\n",
    "    n_qubits = len(input_state)\n",
    "    qc = apply_qpe(unitary, n_qubits, input_state)\n",
    "    \n",
    "    simulator = AerSimulator()\n",
    "    compiled_circuit = transpile(qc, simulator)\n",
    "    job = simulator.run(compiled_circuit)\n",
    "    result = job.result()\n",
    "    counts = result.get_counts()\n",
    "    return counts\n"
   ]
  },
  {
   "cell_type": "markdown",
   "metadata": {},
   "source": [
    "## Step 3: Run QPE\n",
    "1. **Input State:**\n",
    "   - Prepare the input quantum state (in binary form).\n",
    "   \n",
    "2. **Apply QPE Circuit:**\n",
    "   - Use the apply_qpe function to construct the quantum circuit based on the input state and the unitary operator.\n",
    "\n",
    "3. **Simulate the Circuit:**\n",
    "   - Simulate the quantum circuit using the AerSimulator.\n",
    "   - Measure the results to estimate the phase.\n",
    "\n",
    "4. **Return the Results:**\n",
    "   - The measurement result (a binary string) represents an approximation of the phase. This is based on the outcome of the ancilla qubits after the controlled-unitary operations.\n"
   ]
  },
  {
   "cell_type": "code",
   "execution_count": null,
   "metadata": {},
   "outputs": [
    {
     "name": "stdout",
     "output_type": "stream",
     "text": [
      "{'00': 514, '10': 510}\n"
     ]
    }
   ],
   "source": [
    "\n",
    "def phase_shift_unitary(theta):\n",
    "    qc = QuantumCircuit(2)\n",
    "    qc.p(theta, 1)  \n",
    "    return qc.to_gate()\n",
    "\n",
    "# Test the QPE function\n",
    "input_state = \"0\"\n",
    "unitary = phase_shift_unitary(np.pi / 4)  \n",
    "qpe_result = run_qpe(input_state, unitary)\n",
    "print(qpe_result)\n"
   ]
  },
  {
   "cell_type": "markdown",
   "metadata": {},
   "source": [
    "## Step 4: Test with Phase Shift Unit\n",
    "1. **Phase Shift Unitary:**\n",
    "   - A phase shift unitary operator $ U(\\theta) $ is defined. It applies a phase shift on a qubit, changing its state.\n",
    "   \n",
    "2. **Test the QPE Function:**\n",
    "   - The QPE is tested on a simple example where we apply a phase shift of $ \\pi/4 $ to the quantum state.\n",
    "\n",
    "3. **Output the Results:**\n",
    "   - The result is printed, showing the measured phase in binary form. The closer the result is to the exact phase $ \\pi/4 $, the more accurate the phase estimation.\n"
   ]
  }
 ],
 "metadata": {
  "kernelspec": {
   "display_name": "Python 3",
   "language": "python",
   "name": "python3"
  },
  "language_info": {
   "codemirror_mode": {
    "name": "ipython",
    "version": 3
   },
   "file_extension": ".py",
   "mimetype": "text/x-python",
   "name": "python",
   "nbconvert_exporter": "python",
   "pygments_lexer": "ipython3",
   "version": "3.12.3"
  }
 },
 "nbformat": 4,
 "nbformat_minor": 2
}
