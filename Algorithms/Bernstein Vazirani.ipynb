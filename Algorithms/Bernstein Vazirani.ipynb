{
 "cells": [
  {
   "cell_type": "markdown",
   "metadata": {},
   "source": [
    "# Bernstein-Vazirani Algorithm\n",
    "\n",
    "The Bernstein-Vazirani algorithm is a quantum algorithm that efficiently determines a secret bit string `s` encoded within an oracle.  Given a function (implemented as an oracle) that computes the bitwise dot product of an input `x` with the secret string `s`, modulo 2, the algorithm finds `s` with a *single* quantum query.  Classically, this would require *n* queries, where *n* is the length of the bit string.\n",
    "\n",
    "**Key Concepts:**\n",
    "\n",
    "*   **Oracle:** A \"black box\" function that we can query, but whose internal workings are unknown.  In this case, the oracle computes  `f(x) = s · x (mod 2)`.  This is the bitwise dot product of `x` and `s`, and then taking the result modulo 2 (i.e., the result is 0 or 1).\n",
    "*   **Superposition:** The algorithm utilizes the superposition principle to query the oracle with all possible inputs simultaneously.\n",
    "*   **Interference:**  Quantum interference is used to extract the secret string `s` from the superposition.\n",
    "\n",
    "**We will:**\n",
    "\n",
    "1.  Implement the Bernstein-Vazirani algorithm.\n",
    "2.  Explain the role of each gate and step.\n",
    "3.  Provide an example with a specific secret string.\n"
   ]
  },
  {
   "cell_type": "markdown",
   "metadata": {},
   "source": [
    "## Step 1: Import Necessary Libraries\n",
    "\n",
    "We'll use Qiskit for this implementation:"
   ]
  },
  {
   "cell_type": "code",
   "execution_count": 8,
   "metadata": {},
   "outputs": [],
   "source": [
    "from qiskit import QuantumCircuit, QuantumRegister, ClassicalRegister, transpile\n",
    "from qiskit_aer import AerSimulator"
   ]
  },
  {
   "cell_type": "markdown",
   "metadata": {},
   "source": [
    "We begin by importing the necessary libraries:\n",
    "\n",
    "*   **Qiskit:**\n",
    "    *   `QuantumCircuit`: For building quantum circuits.\n",
    "    *   `QuantumRegister`: For creating groups of qubits.\n",
    "    *   `ClassicalRegister`: For storing measurement results (classical bits).\n",
    "    *   `transpile`: For optimizing circuits for a specific backend (simulator or hardware).\n",
    "*   **Qiskit Aer:**\n",
    "    *   `AerSimulator`: For simulating quantum circuits on a classical computer."
   ]
  },
  {
   "cell_type": "markdown",
   "metadata": {},
   "source": [
    "## Step 2: Define the Oracle Function\n",
    "\n",
    "The oracle implements the function `f(x) = s · x (mod 2)`.  We'll create a function to generate the oracle circuit based on a given secret string `s`."
   ]
  },
  {
   "cell_type": "code",
   "execution_count": 9,
   "metadata": {},
   "outputs": [],
   "source": [
    "def create_oracle(secret_string):\n",
    "    n = len(secret_string)\n",
    "    oracle = QuantumCircuit(n + 1)\n",
    "\n",
    "    # Reverse the secret string because Qiskit's qubit ordering is reversed\n",
    "    reversed_string = secret_string[::-1]\n",
    "\n",
    "    # Apply CNOT gates based on the secret string\n",
    "    for i, bit in enumerate(reversed_string):\n",
    "        if bit == '1':\n",
    "            oracle.cx(i, n)  # CNOT with qubit i as control, last qubit as target\n",
    "\n",
    "    return oracle"
   ]
  },
  {
   "cell_type": "markdown",
   "metadata": {},
   "source": [
    "The `create_oracle` function generates the quantum circuit for the oracle:\n",
    "\n",
    "*   **Function Definition:** `def create_oracle(secret_string):`\n",
    "    *   `secret_string`: The secret bit string (e.g., \"10110\").\n",
    "\n",
    "*   **Docstring:** Explains the function's purpose, arguments, and return value.\n",
    "\n",
    "*   **Determine Number of Qubits:** `n = len(secret_string)`:  Gets the length of the secret string, which determines the number of qubits (plus one ancilla qubit).\n",
    "\n",
    "*   **Create Circuit:** `oracle = QuantumCircuit(n + 1)`: Creates a `QuantumCircuit` with `n + 1` qubits.  The extra qubit (at index `n`) is the *ancilla* qubit, where the result of `f(x)` will be stored.\n",
    "\n",
    "*   **Reverse String:** `reversed_string = secret_string[::-1]`:  Reverses the secret string. This is *crucial* because Qiskit uses a little-endian convention for qubit ordering (the least significant bit is qubit 0).  We need to reverse the string to align with this convention.\n",
    "\n",
    "*   **Apply CNOT Gates:** `for i, bit in enumerate(reversed_string):`:\n",
    "    *   Iterates through the *reversed* secret string, getting both the index (`i`) and the value (`bit`) of each bit.\n",
    "    *   `if bit == '1':`: If the bit in the secret string is '1', apply a CNOT gate.\n",
    "        *   `oracle.cx(i, n)`: Applies a CNOT gate.  Qubit `i` is the *control* qubit, and qubit `n` (the ancilla) is the *target* qubit.  This implements the dot product modulo 2. If the i-th bit of 's' is 1, then the CNOT gate flips the ancilla qubit *if and only if* the i-th input qubit is also 1.  This is equivalent to adding (modulo 2) the i-th bit of `s` multiplied by the i-th bit of `x` to the ancilla.\n",
    "\n",
    "*   **Return Value:** `return oracle`: Returns the constructed oracle circuit.\n",
    "\n",
    "**Key Idea of the Oracle:** The oracle effectively encodes the secret string `s` into a series of CNOT gates. Each '1' bit in `s` corresponds to a CNOT gate that entangles the corresponding input qubit with the ancilla qubit."
   ]
  },
  {
   "cell_type": "markdown",
   "metadata": {},
   "source": [
    "## Step 3: Define the Bernstein-Vazirani Algorithm Function\n",
    "\n",
    "Now, we'll create the main function that implements the algorithm."
   ]
  },
  {
   "cell_type": "code",
   "execution_count": 10,
   "metadata": {},
   "outputs": [],
   "source": [
    "def bernstein_vazirani(oracle):\n",
    "\n",
    "    n = oracle.num_qubits - 1  # Get the number of qubits (excluding ancilla)\n",
    "    qreg = QuantumRegister(n + 1, 'q')\n",
    "    creg = ClassicalRegister(n, 'c')\n",
    "    qc = QuantumCircuit(qreg, creg)\n",
    "\n",
    "    # Initialize the ancilla qubit to |1>\n",
    "    qc.x(qreg[n])\n",
    "\n",
    "    # Apply Hadamard gates to all qubits\n",
    "    qc.h(qreg)\n",
    "\n",
    "    # Apply the oracle\n",
    "    qc.compose(oracle, inplace=True)\n",
    "\n",
    "    # Apply Hadamard gates to the input qubits again\n",
    "    qc.h(qreg[:n])\n",
    "\n",
    "    # Measure the input qubits\n",
    "    qc.measure(qreg[:n], creg)\n",
    "\n",
    "    return qc"
   ]
  },
  {
   "cell_type": "markdown",
   "metadata": {},
   "source": [
    "The `bernstein_vazirani` function puts the algorithm together:\n",
    "\n",
    "*   **Function Definition:** `def bernstein_vazirani(oracle):`\n",
    "    *   `oracle`: The quantum circuit representing the oracle (created by `create_oracle`).\n",
    "\n",
    "*   **Docstring:** Explains the function's purpose, arguments, and return value.\n",
    "\n",
    "*   **Get Number of Qubits:** `n = oracle.num_qubits - 1`:  Determines the number of qubits used for the input (`n`) by subtracting 1 (the ancilla) from the total number of qubits in the oracle.\n",
    "\n",
    "*   **Create Registers:**\n",
    "    *   `qreg = QuantumRegister(n + 1, 'q')`: Creates a quantum register with `n + 1` qubits.\n",
    "    *   `creg = ClassicalRegister(n, 'c')`: Creates a classical register with `n` bits (to store the measurement results).\n",
    "\n",
    "*   **Create Circuit:** `qc = QuantumCircuit(qreg, creg)`: Creates the main quantum circuit.\n",
    "\n",
    "*   **Initialize Ancilla:** `qc.x(qreg[n])`:  Applies an X gate to the ancilla qubit (qubit `n`). This puts the ancilla in the |1⟩ state. This is *essential* for the oracle to work correctly, creating the necessary phase kickback.\n",
    "\n",
    "*   **Apply Hadamard Gates (Superposition):** `qc.h(qreg)`: Applies Hadamard gates to *all* qubits (including the ancilla). This creates a uniform superposition of all possible input states.\n",
    "\n",
    "*   **Apply Oracle:** `qc.compose(oracle, inplace=True)`:  Combines the oracle circuit with the main circuit.\n",
    "\n",
    "*   **Apply Hadamard Gates Again:** `qc.h(qreg[:n])`: Applies Hadamard gates to the *input* qubits (all qubits *except* the ancilla) again. This step creates the interference that reveals the secret string.\n",
    "\n",
    "*   **Measure Input Qubits:** `qc.measure(qreg[:n], creg)`: Measures the input qubits (all qubits *except* the ancilla) and stores the results in the classical register.\n",
    "\n",
    "*   **Return Value:** `return qc`: Returns the complete Bernstein-Vazirani circuit.\n",
    "\n",
    "**How it Works (Intuitively):**\n",
    "\n",
    "1.  **Superposition:** The initial Hadamard gates create a superposition of all possible inputs `x`.\n",
    "2.  **Oracle Query:** The oracle applies a phase of (-1) to the states where `f(x) = s · x (mod 2) = 1`. This is a \"phase kickback\" effect due to the ancilla being initialized to |1⟩ and the CNOT gates in the oracle.\n",
    "3.  **Interference:** The final Hadamard gates on the input qubits cause interference.  The amplitudes of the states constructively interfere for the state corresponding to the secret string `s` and destructively interfere for all other states.\n",
    "4.  **Measurement:** Measuring the input qubits then yields the secret string `s` with certainty.\n"
   ]
  },
  {
   "cell_type": "markdown",
   "metadata": {},
   "source": [
    "## Step 4: Example Usage\n",
    "\n",
    "Let's demonstrate the algorithm with a specific secret string."
   ]
  },
  {
   "cell_type": "code",
   "execution_count": 11,
   "metadata": {},
   "outputs": [
    {
     "name": "stdout",
     "output_type": "stream",
     "text": [
      "Secret string: 101101\n",
      "Measured result: 101101\n",
      "     ┌───┐          ┌───┐             ┌─┐                   \n",
      "q_0: ┤ H ├───────■──┤ H ├─────────────┤M├───────────────────\n",
      "     ├───┤┌───┐  │  └┬─┬┘             └╥┘                   \n",
      "q_1: ┤ H ├┤ H ├──┼───┤M├───────────────╫────────────────────\n",
      "     ├───┤└───┘  │   └╥┘         ┌───┐ ║      ┌─┐           \n",
      "q_2: ┤ H ├───────┼────╫───────■──┤ H ├─╫──────┤M├───────────\n",
      "     ├───┤       │    ║       │  └───┘ ║ ┌───┐└╥┘     ┌─┐   \n",
      "q_3: ┤ H ├───────┼────╫───────┼────■───╫─┤ H ├─╫──────┤M├───\n",
      "     ├───┤┌───┐  │    ║  ┌─┐  │    │   ║ └───┘ ║      └╥┘   \n",
      "q_4: ┤ H ├┤ H ├──┼────╫──┤M├──┼────┼───╫───────╫───────╫────\n",
      "     ├───┤└───┘  │    ║  └╥┘  │    │   ║       ║ ┌───┐ ║ ┌─┐\n",
      "q_5: ┤ H ├───────┼────╫───╫───┼────┼───╫───■───╫─┤ H ├─╫─┤M├\n",
      "     ├───┤┌───┐┌─┴─┐  ║   ║ ┌─┴─┐┌─┴─┐ ║ ┌─┴─┐ ║ └───┘ ║ └╥┘\n",
      "q_6: ┤ X ├┤ H ├┤ X ├──╫───╫─┤ X ├┤ X ├─╫─┤ X ├─╫───────╫──╫─\n",
      "     └───┘└───┘└───┘  ║   ║ └───┘└───┘ ║ └───┘ ║       ║  ║ \n",
      "c: 6/═════════════════╩═══╩════════════╩═══════╩═══════╩══╩═\n",
      "                      1   4            0       2       3  5 \n"
     ]
    }
   ],
   "source": [
    "# Example Usage\n",
    "secret_string = '101101'  # Example secret string\n",
    "oracle = create_oracle(secret_string)\n",
    "bv_circuit = bernstein_vazirani(oracle)\n",
    "\n",
    "# Simulate the circuit\n",
    "simulator = AerSimulator()\n",
    "compiled_circuit = transpile(bv_circuit, simulator)\n",
    "job = simulator.run(compiled_circuit, shots=1)\n",
    "result = job.result()\n",
    "counts = result.get_counts(bv_circuit)\n",
    "\n",
    "print(f\"Secret string: {secret_string}\")\n",
    "print(f\"Measured result: {list(counts.keys())[0]}\") # The key is the measured string\n",
    "print(bv_circuit.draw())"
   ]
  },
  {
   "cell_type": "markdown",
   "metadata": {},
   "source": [
    "* **Define secret string**\n",
    "*   **Create Oracle:** `oracle = create_oracle(secret_string)`: Creates the oracle circuit for the chosen secret string.\n",
    "\n",
    "*   **Build Algorithm Circuit:** `bv_circuit = bernstein_vazirani(oracle)`: Creates the complete Bernstein-Vazirani circuit.\n",
    "\n",
    "*   **Simulation:**\n",
    "    *   `simulator = AerSimulator()`: Sets up the Qiskit Aer simulator.\n",
    "    *   `compiled_circuit = transpile(bv_circuit, simulator)`: Optimizes the circuit for the simulator.\n",
    "    *   `job = simulator.run(compiled_circuit, shots=1)`: Runs the simulation.  We use `shots=1` because the algorithm is deterministic (it always gives the correct answer with one measurement).\n",
    "    *   `result = job.result()`: Gets the simulation results.\n",
    "    *   `counts = result.get_counts(bv_circuit)`: Gets the measurement counts.\n",
    "\n",
    "*   **Output:**\n",
    "    *   `print(...)`: Prints the original secret string and the measured result.  They should match!\n",
    "* **Drawing**: The cell also contains circuit's drawing"
   ]
  }
 ],
 "metadata": {
  "kernelspec": {
   "display_name": "Python 3",
   "language": "python",
   "name": "python3"
  },
  "language_info": {
   "codemirror_mode": {
    "name": "ipython",
    "version": 3
   },
   "file_extension": ".py",
   "mimetype": "text/x-python",
   "name": "python",
   "nbconvert_exporter": "python",
   "pygments_lexer": "ipython3",
   "version": "3.12.3"
  }
 },
 "nbformat": 4,
 "nbformat_minor": 2
}
