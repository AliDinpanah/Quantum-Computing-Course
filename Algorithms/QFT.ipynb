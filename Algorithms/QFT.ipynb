{
 "cells": [
  {
   "cell_type": "markdown",
   "metadata": {},
   "source": [
    "# Quantum Fourier Transform (QFT) Implementation\n",
    "The Quantum Fourier Transform (QFT) is a quantum version of the discrete Fourier transform (DFT). It transforms a quantum state into a superposition of states, each representing a Fourier coefficient.\n",
    "\n",
    "The QFT is a key building block in many quantum algorithms, such as Shor's algorithm for factoring. In this notebook, we will:\n",
    "1. Implement the QFT on a quantum circuit\n",
    "2. Understand the role of each gate\n",
    "3. Test the QFT with an example quantum state\n"
   ]
  },
  {
   "cell_type": "code",
   "execution_count": 1,
   "metadata": {},
   "outputs": [],
   "source": [
    "from qiskit import QuantumCircuit, transpile\n",
    "from qiskit_aer import AerSimulator\n",
    "import numpy as np"
   ]
  },
  {
   "cell_type": "markdown",
   "metadata": {},
   "source": [
    "## Step 1: Import Necessary Libraries\n",
    "- Qiskit:\n",
    "  - QuantumCircuit for building the quantum circuit\n",
    "  - transpile to optimize the circuit for the simulator\n",
    "- AerSimulator as a backend for running and testing circuits\n",
    "- NumPy to handle mathematical operations like pi\n"
   ]
  },
  {
   "cell_type": "code",
   "execution_count": 2,
   "metadata": {},
   "outputs": [],
   "source": [
    "def apply_qft(qc, n):\n",
    "    for i in range(n):\n",
    "        qc.h(i)\n",
    "        for j in range(i + 1, n):\n",
    "            qc.cp(np.pi / (2 ** (j - i)), j, i)\n",
    "    for i in range(n // 2):\n",
    "        qc.swap(i, n - i - 1)\n"
   ]
  },
  {
   "cell_type": "markdown",
   "metadata": {},
   "source": [
    "## Step 2: Define the QFT Function\n",
    "The apply_qft function applies the QFT to the first n qubits of a quantum circuit:\n",
    "1. Hadamard Gate:\n",
    "   - Applied to each qubit to create a superposition\n",
    "2. Controlled Phase Rotations:\n",
    "   - Introduce relative phases between states, encoding the Fourier transform\n",
    "   - Angle for each gate is pi divided by 2 raised to the power of the qubit distance\n",
    "3. Swap Qubits:\n",
    "   - Reverses the order of qubits to match the standard QFT output\n"
   ]
  },
  {
   "cell_type": "code",
   "execution_count": 3,
   "metadata": {},
   "outputs": [],
   "source": [
    "def apply_inverse_qft(qc, n):\n",
    "    for i in range(n // 2):\n",
    "        qc.swap(i, n - i - 1)\n",
    "    for i in range(n - 1, -1, -1):\n",
    "        for j in range(n - 1, i, -1):\n",
    "            qc.cp(-np.pi / (2 ** (j - i)), j, i)\n",
    "        qc.h(i)\n"
   ]
  },
  {
   "cell_type": "markdown",
   "metadata": {},
   "source": [
    "## Step 3: Define the Inverse QFT Function\n",
    "The apply_inverse_qft function applies the inverse Quantum Fourier Transform (QFT†):\n",
    "1. Reverse Qubits:\n",
    "   - Swaps the qubits back to their original order\n",
    "2. Undo Phase Rotations:\n",
    "   - Controlled phase gates are reversed with a negative angle\n",
    "3. Undo Hadamard Gates:\n",
    "   - Reverts qubits to their original state\n"
   ]
  },
  {
   "cell_type": "code",
   "execution_count": 4,
   "metadata": {},
   "outputs": [
    {
     "name": "stdout",
     "output_type": "stream",
     "text": [
      "{'100': 124, '001': 141, '101': 134, '111': 123, '011': 125, '010': 118, '000': 129, '110': 130}\n"
     ]
    }
   ],
   "source": [
    "def test_qft(input_state):\n",
    "    n = len(input_state)\n",
    "    qc = QuantumCircuit(n)\n",
    "    for i, bit in enumerate(reversed(input_state)):\n",
    "        if bit == 1:\n",
    "            qc.x(i)\n",
    "    apply_qft(qc, n)\n",
    "    qc.measure_all()\n",
    "    simulator = AerSimulator()\n",
    "    compiled_circuit = transpile(qc, simulator)\n",
    "    job = simulator.run(compiled_circuit)\n",
    "    result = job.result()\n",
    "    return result.get_counts()\n",
    "\n",
    "input_state = [1, 0, 1]\n",
    "qft_result = test_qft(input_state)\n",
    "print(qft_result)\n"
   ]
  },
  {
   "cell_type": "markdown",
   "metadata": {},
   "source": [
    "## Step 4: Test the QFT Function\n",
    "The test_qft function:\n",
    "1. Initializes the quantum circuit to a binary input state\n",
    "   - Example: input [1, 0, 1] corresponds to the quantum state |101>\n",
    "2. Applies the QFT on the quantum state\n",
    "3. Simulates the circuit and retrieves the results\n"
   ]
  }
 ],
 "metadata": {
  "kernelspec": {
   "display_name": "Python 3",
   "language": "python",
   "name": "python3"
  },
  "language_info": {
   "codemirror_mode": {
    "name": "ipython",
    "version": 3
   },
   "file_extension": ".py",
   "mimetype": "text/x-python",
   "name": "python",
   "nbconvert_exporter": "python",
   "pygments_lexer": "ipython3",
   "version": "3.12.3"
  }
 },
 "nbformat": 4,
 "nbformat_minor": 2
}
