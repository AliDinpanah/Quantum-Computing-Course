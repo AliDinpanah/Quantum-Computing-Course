{
 "cells": [
  {
   "cell_type": "markdown",
   "metadata": {},
   "source": [
    "# Quantum Bit Shifting (Right and Left) Using Qiskit\n",
    "This implementation demonstrates how to shift the bits of a 4-qubit quantum register to the **right** and **left** using Qiskit. \n",
    "\n",
    "We will:\n",
    "1. Initialize a quantum circuit with the input bits.\n",
    "2. Apply swap operations to perform the desired shift.\n",
    "3. Measure the qubits to observe the shifted state.\n"
   ]
  },
  {
   "cell_type": "code",
   "execution_count": 1,
   "metadata": {},
   "outputs": [],
   "source": [
    "from qiskit import QuantumCircuit, transpile\n",
    "from qiskit_aer import AerSimulator"
   ]
  },
  {
   "cell_type": "markdown",
   "metadata": {},
   "source": [
    "## Step 1: Import Necessary Libraries\n",
    "- **Qiskit**: The framework for quantum programming.\n",
    "  - QuantumCircuit: For building the quantum circuit.\n",
    "  - transpile: To optimize the circuit for the simulator.\n",
    "- **AerSimulator**: A quantum simulator backend for running and testing circuits.\n"
   ]
  },
  {
   "cell_type": "code",
   "execution_count": null,
   "metadata": {},
   "outputs": [],
   "source": [
    "def create_shift_circuit(input_bits, direction):\n",
    "    qc = QuantumCircuit(4)\n",
    "\n",
    "    # Initialize the input bits\n",
    "    for i, bit in enumerate(reversed(input_bits)):\n",
    "        if bit == '1':\n",
    "            qc.x(i)\n",
    "\n",
    "\n",
    "    if direction == \"right\":\n",
    "        qc.swap(0, 1)\n",
    "        qc.swap(1, 2)\n",
    "        qc.swap(2, 3)\n",
    "    elif direction == \"left\":\n",
    "        qc.swap(2, 3)\n",
    "        qc.swap(1, 2)\n",
    "        qc.swap(0, 1)\n",
    "    else:\n",
    "        raise ValueError(\"Direction must be 'right' or 'left'.\")\n",
    "\n",
    "\n",
    "    qc.measure_all()\n",
    "\n",
    "    # Simulate the circuit\n",
    "    simulator = AerSimulator()\n",
    "    compiled_circuit = transpile(qc, simulator)\n",
    "    job = simulator.run(compiled_circuit)\n",
    "    result = job.result()\n",
    "\n",
    "    return result.get_counts()\n"
   ]
  },
  {
   "cell_type": "markdown",
   "metadata": {},
   "source": [
    "## Step 2: Define the create_shift_circuit Function\n",
    "This function creates a quantum circuit and performs a shift operation. It has the following steps:\n",
    "\n",
    "### Input Parameters\n",
    "1. **input_bits**: A binary string (e.g., \"1011\") representing the initial state of the qubits.\n",
    "2. **direction**: Specifies whether to shift **right** or **left**.\n",
    "\n",
    "### Circuit Construction\n",
    "1. **Initialization**:\n",
    "   - Qubits are initialized to the state represented by the binary string.\n",
    "   - For each bit that is 1, the corresponding qubit is flipped to \\( |1\\rangle \\) using the x gate.\n",
    "\n",
    "2. **Swap Operations**:\n",
    "   - Swaps are applied between adjacent qubits based on the desired direction:\n",
    "     - **Right Shift**: \\( Q_0 \\leftrightarrow Q_1 \\), \\( Q_1 \\leftrightarrow Q_2 \\), \\( Q_2 \\leftrightarrow Q_3 \\).\n",
    "     - **Left Shift**: \\( Q_2 \\leftrightarrow Q_3 \\), \\( Q_1 \\leftrightarrow Q_2 \\), \\( Q_0 \\leftrightarrow Q_1 \\).\n",
    "\n",
    "3. **Measurement**:\n",
    "   - All qubits are measured to record the final state.\n",
    "\n",
    "4. **Simulation**:\n",
    "   - The circuit is simulated using AerSimulator to obtain the measurement results.\n",
    "\n",
    "### Output\n",
    "The function returns a dictionary of measurement results (counts), showing how many times each final state occurred.\n"
   ]
  },
  {
   "cell_type": "code",
   "execution_count": 3,
   "metadata": {},
   "outputs": [],
   "source": [
    "# Input binary string\n",
    "input_bits = \"1011\"\n",
    "\n",
    "# Perform right shift\n",
    "right_shift_result = create_shift_circuit(input_bits, \"right\")\n",
    "\n",
    "# Perform left shift\n",
    "left_shift_result = create_shift_circuit(input_bits, \"left\")\n"
   ]
  },
  {
   "cell_type": "markdown",
   "metadata": {},
   "source": [
    "## Step 3: Define Input and Perform Shifts\n",
    "1. **Input Binary String**:\n",
    "   - input_bits: The initial state of the qubits, represented as a binary string (e.g., \"1011\").\n",
    "   \n",
    "2. **Perform Right Shift**:\n",
    "   - Call create_shift_circuit(input_bits, \"right\") to shift the bits to the right.\n",
    "   \n",
    "3. **Perform Left Shift**:\n",
    "   - Call create_shift_circuit(input_bits, \"left\") to shift the bits to the left.\n"
   ]
  },
  {
   "cell_type": "code",
   "execution_count": 4,
   "metadata": {},
   "outputs": [
    {
     "name": "stdout",
     "output_type": "stream",
     "text": [
      "Right shift:\t1101\n",
      "Left shift:\t0111\n"
     ]
    }
   ],
   "source": [
    "# Display the results\n",
    "print('Right shift:\\t' + max(right_shift_result))\n",
    "print('Left shift:\\t' + max(left_shift_result))\n"
   ]
  },
  {
   "cell_type": "markdown",
   "metadata": {},
   "source": [
    "## Step 4: Display Results\n",
    "- The results of the simulation are displayed as binary strings:\n",
    "  - **Right Shift**: The output after shifting the bits to the right.\n",
    "  - **Left Shift**: The output after shifting the bits to the left.\n",
    "- The max() function retrieves the most frequent measurement result, as we expect a single deterministic output in this quantum operation.\n",
    "\n",
    "### Example Output\n",
    "For input_bits = \"1011\":\n",
    "- **Right Shift**: 0101\n",
    "- **Left Shift**: 0111\n"
   ]
  }
 ],
 "metadata": {
  "kernelspec": {
   "display_name": "Python 3",
   "language": "python",
   "name": "python3"
  },
  "language_info": {
   "codemirror_mode": {
    "name": "ipython",
    "version": 3
   },
   "file_extension": ".py",
   "mimetype": "text/x-python",
   "name": "python",
   "nbconvert_exporter": "python",
   "pygments_lexer": "ipython3",
   "version": "3.12.3"
  }
 },
 "nbformat": 4,
 "nbformat_minor": 2
}
