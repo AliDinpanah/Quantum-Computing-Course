{
    "cells": [
        {
            "cell_type": "markdown",
            "id": "c889115f",
            "metadata": {},
            "source": [
                "# Quantum Shortest Path Algorithm using Grover's Search (Heuristic)\n",
                "\n",
                "This notebook implements a *heuristic* quantum shortest path algorithm using Grover's search. This approach is not guaranteed to find the absolute shortest path in all cases, especially for complex graphs, but it demonstrates how Grover's search can be applied to this problem. The algorithm finds *a* short path, and with sufficient iterations, the probability of finding the shortest path increases.\n",
                "\n",
                "**Key Concepts:**\n",
                "\n",
                "*   **Graph Representation:** The graph is represented as a dictionary where keys are nodes and values are lists of their neighbors.\n",
                "*   **Path Enumeration:**  We use `networkx` to generate all simple paths between the start and end nodes up to a certain length. This is an *exponential* operation and is the main limitation of this implementation for larger graphs.\n",
                "*   **Oracle:**  A simplified oracle is used that marks states corresponding to paths shorter than or equal to a given length.\n",
                "*   **Diffusion Operator:** The standard Grover diffusion operator is used to amplify the amplitudes of the marked states.\n",
                "*   **Grover's Iteration:** The oracle and diffusion operator are applied repeatedly.\n",
                "*   **Path Length Iteration:** The algorithm iterates through possible path lengths, effectively performing a breadth-first search.\n",
                "\n",
                "**Limitations:**\n",
                "\n",
                "*   **Exponential Path Enumeration:**  The use of `networkx.all_simple_paths` makes this implementation unsuitable for large or densely connected graphs.\n",
                "*   **Heuristic Nature:**  Due to the simplified oracle, the algorithm does not guarantee finding the absolute shortest path.\n",
                "*   **Oracle Complexity:**  The oracle's complexity scales with the number of possible paths.\n"
            ]
        },
        {
            "cell_type": "markdown",
            "id": "7283fbad",
            "metadata": {},
            "source": [
                "## Step 1: Import Necessary Libraries"
            ]
        },
        {
            "cell_type": "code",
            "execution_count": 9,
            "id": "14ffaed7",
            "metadata": {},
            "outputs": [],
            "source": [
                "import qiskit\n",
                "from qiskit import QuantumCircuit, QuantumRegister, ClassicalRegister, transpile\n",
                "from qiskit_aer import AerSimulator\n",
                "from qiskit.visualization import plot_histogram\n",
                "import numpy as np\n",
                "import math\n",
                "import networkx as nx\n",
                "import matplotlib.pyplot as plt"
            ]
        },
        {
            "cell_type": "markdown",
            "id": "bbf7fae0",
            "metadata": {},
            "source": [
                "The imported libraries are:\n",
                "\n",
                "*   **qiskit:** The main library for quantum computing.\n",
                "    *   `QuantumCircuit`: For building quantum circuits.\n",
                "    *   `QuantumRegister`, `ClassicalRegister`: For managing qubits and classical bits.\n",
                "    *   `transpile`: For optimizing circuits for specific backends.\n",
                "*   **qiskit.providers.aer.AerSimulator:** For simulating quantum circuits.\n",
                "*   **qiskit.visualization.plot_histogram:** For visualizing measurement results.\n",
                "*   **numpy:** For numerical operations (arrays, mathematical functions).\n",
                "*   **math:** For mathematical functions (e.g., `ceil`, `log2`).\n",
                "*   **networkx:** For graph manipulation and visualization.\n",
                "*   **matplotlib.pyplot:** For plotting graphs and histograms."
            ]
        },
        {
            "cell_type": "markdown",
            "id": "3d8312f0",
            "metadata": {},
            "source": [
                "## Step 2: Define the `grover_shortest_path` Function"
            ]
        },
        {
            "cell_type": "code",
            "execution_count": 10,
            "id": "bb291dbd",
            "metadata": {},
            "outputs": [],
            "source": [
                "def grover_shortest_path(graph, start_node, end_node, max_iterations=None):\n",
                "    nodes = list(graph.keys())\n",
                "    num_nodes = len(nodes)\n",
                "    num_qubits = math.ceil(np.log2(num_nodes))\n",
                "    all_paths = []\n",
                "    for i in range(1, num_nodes + 1):\n",
                "        for path in nx.all_simple_paths(nx.Graph(graph), source=start_node, target=end_node, cutoff=i):\n",
                "            all_paths.append(path)\n",
                "    if not all_paths:\n",
                "        return [], 0, {}\n",
                "    num_paths = len(all_paths)\n",
                "    path_qubits = math.ceil(np.log2(num_paths))\n",
                "    def node_to_binary(node):\n",
                "        index = nodes.index(node)\n",
                "        return format(index, f'0{num_qubits}b')\n",
                "    def path_to_binary(path_index):\n",
                "        return format(path_index, f'0{path_qubits}b')\n",
                "    def oracle(shortest_length):\n",
                "        oracle_qc = QuantumCircuit(path_qubits + 1, name=\"Oracle\")\n",
                "        for i, path in enumerate(all_paths):\n",
                "            if len(path) <= shortest_length:\n",
                "                path_binary = path_to_binary(i)\n",
                "                for j, bit in enumerate(path_binary):\n",
                "                    if bit == '0':\n",
                "                        oracle_qc.x(j)\n",
                "                oracle_qc.h(path_qubits)\n",
                "                if hasattr(oracle_qc, 'mct'):\n",
                "                    oracle_qc.mct(list(range(path_qubits)), path_qubits)\n",
                "                else:\n",
                "                    oracle_qc.mcx(list(range(path_qubits)), path_qubits)\n",
                "                oracle_qc.h(path_qubits)\n",
                "                for j, bit in enumerate(path_binary):\n",
                "                    if bit == '0':\n",
                "                        oracle_qc.x(j)\n",
                "        return oracle_qc\n",
                "    def diffusion_operator():\n",
                "        diffusion_qc = QuantumCircuit(path_qubits + 1, name=\"Diffusion\")\n",
                "        for i in range(path_qubits):\n",
                "            diffusion_qc.h(i)\n",
                "        for i in range(path_qubits):\n",
                "            diffusion_qc.x(i)\n",
                "        diffusion_qc.h(path_qubits - 1)\n",
                "        if hasattr(diffusion_qc, 'mct'):\n",
                "            diffusion_qc.mct(list(range(path_qubits - 1)), path_qubits - 1)\n",
                "        else:\n",
                "            diffusion_qc.mcx(list(range(path_qubits - 1)), path_qubits - 1)\n",
                "        diffusion_qc.h(path_qubits - 1)\n",
                "        for i in range(path_qubits):\n",
                "            diffusion_qc.x(i)\n",
                "        for i in range(path_qubits):\n",
                "            diffusion_qc.h(i)\n",
                "        return diffusion_qc\n",
                "    best_path = None\n",
                "    best_length = float('inf')\n",
                "    best_counts = {}\n",
                "    iterations_used = 0\n",
                "    if max_iterations is None:\n",
                "        max_iterations = int(np.ceil(np.pi / 4 * np.sqrt(num_paths)))\n",
                "    for k in range(1, num_nodes + 1):\n",
                "        qc = QuantumCircuit(path_qubits + 1, path_qubits)\n",
                "        for i in range(path_qubits):\n",
                "            qc.h(i)\n",
                "        for _ in range(max_iterations):\n",
                "            qc.append(oracle(k), list(range(path_qubits + 1)))\n",
                "            qc.append(diffusion_operator(), list(range(path_qubits + 1)))\n",
                "        qc.measure(range(path_qubits), range(path_qubits))\n",
                "        simulator = AerSimulator()\n",
                "        compiled_circuit = transpile(qc, simulator)\n",
                "        job = simulator.run(compiled_circuit, shots=1024)\n",
                "        result = job.result()\n",
                "        counts = result.get_counts(qc)\n",
                "        most_frequent_path_index = int(max(counts, key=counts.get), 2)\n",
                "        if 0 <= most_frequent_path_index < len(all_paths):\n",
                "          current_path = all_paths[most_frequent_path_index]\n",
                "          current_length = len(current_path)\n",
                "          if current_length < best_length:\n",
                "              best_length = current_length\n",
                "              best_path = current_path\n",
                "              best_counts = counts\n",
                "              iterations_used = max_iterations\n",
                "    return best_path, iterations_used, best_counts"
            ]
        },
        {
            "cell_type": "markdown",
            "id": "fa704fdd",
            "metadata": {},
            "source": [
                "The `grover_shortest_path` function implements the main algorithm:\n",
                "\n",
                "*   **Input:**\n",
                "    *   `graph`: A dictionary representing the graph.\n",
                "    *   `start_node`: The starting node (string).\n",
                "    *   `end_node`: The ending node (string).\n",
                "    *   `max_iterations`: (Optional) Maximum number of Grover iterations.  Defaults to a heuristic value.\n",
                "*   **Initialization:**\n",
                "    *   `nodes`:  List of all nodes in the graph.\n",
                "    *   `num_nodes`: Number of nodes.\n",
                "    *   `num_qubits`: Number of qubits needed to represent nodes (logarithmic).\n",
                "    *   `all_paths`:  List to store all simple paths between `start_node` and `end_node`.\n",
                "    *   Iterates through possible path lengths (from 1 to `num_nodes`) and uses `nx.all_simple_paths` to find all paths of that length. *This is an exponential operation.*\n",
                "    *   `num_paths`: The total number of paths found.\n",
                "    *   `path_qubits`: Number of qubits to represent the paths.\n",
                "    *   `node_to_binary`, `path_to_binary`: Helper functions to convert node names and path indices to binary strings.\n",
                "*   **`oracle(shortest_length)` Function:**\n",
                "    *   Creates a quantum circuit `oracle_qc`.\n",
                "    *   Iterates through all found paths.\n",
                "    *   If a path's length is less than or equal to `shortest_length`, it marks the corresponding state:\n",
                "        *   Converts the path index to binary.\n",
                "        *   Applies X gates to qubits corresponding to '0' bits in the binary representation.\n",
                "        *   Applies a multi-controlled Toffoli (MCT/MCX) gate to apply a phase flip.\n",
                "        *   Reverses the X gates.\n",
                "*   **`diffusion_operator()` Function:**\n",
                "    *   Creates a quantum circuit `diffusion_qc`.\n",
                "    *   Implements the standard Grover diffusion operator (Hadamards, X gates, and a multi-controlled Z gate implemented as H-MCT/MCX-H).\n",
                "*   **Main Grover Loop:**\n",
                "    *   Initializes `best_path`, `best_length`, `best_counts`, and `iterations_used`.\n",
                "    *   Calculates `max_iterations` heuristically if not provided.\n",
                "    *   Iterates through possible path lengths (`k`):\n",
                "        *   Creates a new quantum circuit `qc` for each path length.\n",
                "        *   Initializes qubits in superposition (Hadamard gates).\n",
                "        *   Performs Grover iterations (applies the oracle and diffusion operator `max_iterations` times).\n",
                "        *   Measures the path qubits.\n",
                "        *   Simulates the circuit using `AerSimulator`.\n",
                "        *   Gets measurement counts.\n",
                "        *   Finds the most frequent path index.\n",
                "        *   Checks if the index is valid.\n",
                "        *   If a shorter path is found, updates `best_path`, `best_length`, `best_counts`, and `iterations_used`.\n",
                "*   **Return Value:**\n",
                "    *   Returns `best_path` (list of nodes), `iterations_used` (int), and `best_counts` (dictionary).\n"
            ]
        },
        {
            "cell_type": "markdown",
            "id": "3d3ba44b",
            "metadata": {},
            "source": [
                "## Step 3: Define the `draw_graph` Function"
            ]
        },
        {
            "cell_type": "code",
            "execution_count": 11,
            "id": "843447b0",
            "metadata": {},
            "outputs": [],
            "source": [
                "def draw_graph(graph, shortest_path=None):\n",
                "    G = nx.Graph(graph)\n",
                "    pos = nx.spring_layout(G)\n",
                "    nx.draw(G, pos, with_labels=True, node_color='lightblue', edge_color='gray')\n",
                "    if shortest_path:\n",
                "        edges = [(shortest_path[i], shortest_path[i+1]) for i in range(len(shortest_path) - 1)]\n",
                "        nx.draw_networkx_edges(G, pos, edgelist=edges, edge_color='red', width=2)\n",
                "    plt.show()"
            ]
        },
        {
            "cell_type": "markdown",
            "id": "24bb05a8",
            "metadata": {},
            "source": [
                "The `draw_graph` function visualizes the graph:\n",
                "\n",
                "*   **Input:**\n",
                "    *   `graph`: The graph (dictionary).\n",
                "    *   `shortest_path`: (Optional) The shortest path found (list of nodes).\n",
                "*   **Process:**\n",
                "    *   Creates a `networkx` graph object `G` from the input dictionary.\n",
                "    *   Calculates node positions using `nx.spring_layout` (you can use other layouts).\n",
                "    *   Draws the graph using `nx.draw` with labels, node colors, and edge colors.\n",
                "    *   If `shortest_path` is provided, it highlights the path in red using `nx.draw_networkx_edges`.\n",
                "    *   Displays the graph using `plt.show()`."
            ]
        },
        {
            "cell_type": "markdown",
            "id": "22c3726b",
            "metadata": {},
            "source": [
                "## Step 4: Example Usage"
            ]
        },
        {
            "cell_type": "code",
            "execution_count": 12,
            "id": "cbc9f8aa",
            "metadata": {
                "scrolled": true
            },
            "outputs": [
                {
                    "data": {
                        "image/png": "[encoded data removed]",
                        "text/plain": [
                            "<Figure size 640x480 with 1 Axes>"
                        ]
                    },
                    "metadata": {},
                    "output_type": "display_data"
                },
                {
                    "name": "stdout",
                    "output_type": "stream",
                    "text": [
                        "Shortest Path Found: ['A', 'C', 'F']\n",
                        "Iterations Used: 3\n",
                        "Measurement Counts: {'0100': 89, '0001': 63, '1100': 58, '0000': 73, '0010': 64, '1001': 69, '0101': 48, '1110': 56, '0111': 68, '0011': 66, '1011': 70, '1000': 46, '0110': 61, '1101': 61, '1010': 69, '1111': 63}\n"
                    ]
                },
                {
                    "data": {
                        "image/png": "[encoded data removed]",
                        "text/plain": [
                            "<Figure size 640x480 with 1 Axes>"
                        ]
                    },
                    "metadata": {},
                    "output_type": "display_data"
                },
                {
                    "name": "stdout",
                    "output_type": "stream",
                    "text": [
                        "Shortest Path Found (Graph 2): ['A', 'D', 'J', 'P']\n",
                        "Iterations Used (Graph 2): 3\n",
                        "Measurement Counts (Graph 2): {'0100': 71, '1111': 58, '0001': 57, '1101': 53, '0010': 61, '0000': 64, '0110': 74, '1000': 77, '1100': 66, '1011': 71, '0011': 63, '0111': 58, '1001': 61, '0101': 58, '1110': 68, '1010': 64}\n"
                    ]
                },
                {
                    "data": {
                        "image/png": "[encoded data removed]",
                        "text/plain": [
                            "<Figure size 640x480 with 1 Axes>"
                        ]
                    },
                    "metadata": {},
                    "output_type": "display_data"
                },
                {
                    "name": "stdout",
                    "output_type": "stream",
                    "text": [
                        "Shortest Path Found (Graph 3): []\n",
                        "Iterations Used (Graph 3): 0\n",
                        "Measurement Counts (Graph 3): {}\n"
                    ]
                }
            ],
            "source": [
                "if __name__ == '__main__':\n",
                "    graph = {\n",
                "        'A': ['B', 'C'],\n",
                "        'B': ['A', 'D', 'E'],\n",
                "        'C': ['A', 'F'],\n",
                "        'D': ['B'],\n",
                "        'E': ['B', 'F'],\n",
                "        'F': ['C', 'E']\n",
                "    }\n",
                "    start_node = 'A'\n",
                "    end_node = 'F'\n",
                "    shortest_path, iterations, counts = grover_shortest_path(graph, start_node, end_node)\n",
                "    draw_graph(graph, shortest_path)\n",
                "    print(f\"Shortest Path Found: {shortest_path}\")\n",
                "    print(f\"Iterations Used: {iterations}\")\n",
                "    print(f\"Measurement Counts: {counts}\")\n",
                "    plot_histogram(counts)\n",
                "    plt.show()\n",
                "    graph2 = {\n",
                "      'A': ['B', 'C', 'D'],\n",
                "      'B': ['A', 'E', 'F'],\n",
                "      'C': ['A', 'G', 'H'],\n",
                "      'D': ['A', 'I', 'J'],\n",
                "      'E': ['B', 'K'],\n",
                "      'F': ['B', 'L'],\n",
                "      'G': ['C', 'M'],\n",
                "      'H': ['C', 'N'],\n",
                "      'I': ['D', 'O'],\n",
                "      'J': ['D', 'P'],\n",
                "      'K': ['E'],\n",
                "      'L': ['F'],\n",
                "      'M': ['G'],\n",
                "      'N': ['H'],\n",
                "      'O': ['I'],\n",
                "      'P': ['J']\n",
                "    }\n",
                "    start_node2 = 'A'\n",
                "    end_node2 = 'P'\n",
                "    shortest_path2, iterations2, counts2 = grover_shortest_path(graph2, start_node2, end_node2)\n",
                "    draw_graph(graph2, shortest_path2)\n",
                "    print(f\"Shortest Path Found (Graph 2): {shortest_path2}\")\n",
                "    print(f\"Iterations Used (Graph 2): {iterations2}\")\n",
                "    print(f\"Measurement Counts (Graph 2): {counts2}\")\n",
                "    plot_histogram(counts2)\n",
                "    plt.show()\n",
                "    graph3 = {\n",
                "      'A': ['B', 'C'],\n",
                "      'B': ['A'],\n",
                "      'C': ['A'],\n",
                "      'D': ['E'],\n",
                "      'E': ['D']\n",
                "    }\n",
                "    start_node3 = 'A'\n",
                "    end_node3 = 'E'\n",
                "    shortest_path3, iterations3, counts3 = grover_shortest_path(graph3, start_node3, end_node3)\n",
                "    draw_graph(graph3)\n",
                "    print(f\"Shortest Path Found (Graph 3): {shortest_path3}\")\n",
                "    print(f\"Iterations Used (Graph 3): {iterations3}\")\n",
                "    print(f\"Measurement Counts (Graph 3): {counts3}\")"
            ]
        },
        {
            "cell_type": "markdown",
            "id": "8dc3e148",
            "metadata": {},
            "source": [
                "The example usage section demonstrates the algorithm with three different graphs:\n",
                "\n",
                "*   **Graph 1 (Simple Graph):**\n",
                "    *   Defines a simple graph `graph`.\n",
                "    *   Sets `start_node` to 'A' and `end_node` to 'F'.\n",
                "    *   Calls `grover_shortest_path` to find a short path.\n",
                "    *   Calls `draw_graph` to visualize the graph and highlight the found path.\n",
                "    *   Prints the results (path, iterations, counts).\n",
                "    *   Displays the histogram of measurement counts.\n",
                "*   **Graph 2 (Larger Graph):**\n",
                "    *   Defines a larger, more connected graph `graph2`.\n",
                "    *   Sets `start_node2` to 'A' and `end_node2` to 'P'.\n",
                "    *   Runs the algorithm and displays the results similarly to Graph 1.\n",
                "*   **Graph 3 (Disconnected Graph):**\n",
                "    *   Defines a graph `graph3` where no path exists between 'A' and 'E'.\n",
                "    *   Sets `start_node3` to 'A' and `end_node3` to 'E'.\n",
                "    *   Runs the algorithm.  The expected result is an empty path, 0 iterations, and an empty counts dictionary.\n",
                "*   **`if __name__ == '__main__':`:** Ensures that the example code runs only when the script is executed directly (not when imported as a module)."
            ]
        }
    ],
    "metadata": {
        "kernelspec": {
            "display_name": "Python 3",
            "language": "python",
            "name": "python3"
        },
        "language_info": {
            "codemirror_mode": {
                "name": "ipython",
                "version": 3
            },
            "file_extension": ".py",
            "mimetype": "text/x-python",
            "name": "python",
            "nbconvert_exporter": "python",
            "pygments_lexer": "ipython3",
            "version": "3.12.3"
        }
    },
    "nbformat": 4,
    "nbformat_minor": 5
}
